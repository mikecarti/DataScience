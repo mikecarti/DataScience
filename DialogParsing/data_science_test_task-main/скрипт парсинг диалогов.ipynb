{
 "cells": [
  {
   "cell_type": "code",
   "execution_count": 1,
   "id": "963153d3",
   "metadata": {},
   "outputs": [],
   "source": [
    "#Главные задачи, которые должен выполнять скрипт:\n",
    "#\n",
    "#Извлекать реплики с приветствием – где менеджер поздоровался. \n",
    "#Извлекать реплики, где менеджер представил себя. \n",
    "#Извлекать имя менеджера. \n",
    "#Извлекать название компании. \n",
    "#Извлекать реплики, где менеджер попрощался.\n",
    "#Проверять требование к менеджеру: «В каждом диалоге обязательно необходимо поздороваться и попрощаться с клиентом»\n"
   ]
  },
  {
   "cell_type": "code",
   "execution_count": 2,
   "id": "844ccbb5",
   "metadata": {},
   "outputs": [],
   "source": [
    "# Я подготовил список приветствий из базы данных викисловаря. Я не стал брать неформальные, а также не стал брать \n",
    "# \"Алло\" так как это, как мне кажется неуместное приветствие для менеджера."
   ]
  },
  {
   "cell_type": "code",
   "execution_count": 3,
   "id": "b0f5eba2",
   "metadata": {},
   "outputs": [],
   "source": [
    "import pandas as pd\n",
    "import re\n",
    "from nltk.stem.snowball import SnowballStemmer "
   ]
  },
  {
   "cell_type": "code",
   "execution_count": 4,
   "id": "05fe35c2",
   "metadata": {},
   "outputs": [],
   "source": [
    "df = pd.read_csv(\"./test_data.csv\", sep=\",\")\n",
    "stemmer = SnowballStemmer(\"russian\") "
   ]
  },
  {
   "cell_type": "code",
   "execution_count": 5,
   "id": "3d0eb448",
   "metadata": {},
   "outputs": [],
   "source": [
    "df_extracted = pd.DataFrame(columns=['dialog_id','greeting', 'introduction', 'manager_name', 'company_name', 'farewell', 'was_polite'])"
   ]
  },
  {
   "cell_type": "code",
   "execution_count": 6,
   "id": "9ae6a85b",
   "metadata": {
    "scrolled": true
   },
   "outputs": [
    {
     "data": {
      "text/html": [
       "<div>\n",
       "<style scoped>\n",
       "    .dataframe tbody tr th:only-of-type {\n",
       "        vertical-align: middle;\n",
       "    }\n",
       "\n",
       "    .dataframe tbody tr th {\n",
       "        vertical-align: top;\n",
       "    }\n",
       "\n",
       "    .dataframe thead th {\n",
       "        text-align: right;\n",
       "    }\n",
       "</style>\n",
       "<table border=\"1\" class=\"dataframe\">\n",
       "  <thead>\n",
       "    <tr style=\"text-align: right;\">\n",
       "      <th></th>\n",
       "      <th>dlg_id</th>\n",
       "      <th>line_n</th>\n",
       "      <th>role</th>\n",
       "      <th>text</th>\n",
       "    </tr>\n",
       "  </thead>\n",
       "  <tbody>\n",
       "    <tr>\n",
       "      <th>0</th>\n",
       "      <td>0</td>\n",
       "      <td>0</td>\n",
       "      <td>client</td>\n",
       "      <td>Алло</td>\n",
       "    </tr>\n",
       "    <tr>\n",
       "      <th>1</th>\n",
       "      <td>0</td>\n",
       "      <td>1</td>\n",
       "      <td>manager</td>\n",
       "      <td>Алло здравствуйте</td>\n",
       "    </tr>\n",
       "    <tr>\n",
       "      <th>2</th>\n",
       "      <td>0</td>\n",
       "      <td>2</td>\n",
       "      <td>client</td>\n",
       "      <td>Добрый день</td>\n",
       "    </tr>\n",
       "    <tr>\n",
       "      <th>3</th>\n",
       "      <td>0</td>\n",
       "      <td>3</td>\n",
       "      <td>manager</td>\n",
       "      <td>Меня зовут ангелина компания диджитал бизнес з...</td>\n",
       "    </tr>\n",
       "    <tr>\n",
       "      <th>4</th>\n",
       "      <td>0</td>\n",
       "      <td>4</td>\n",
       "      <td>client</td>\n",
       "      <td>Ага</td>\n",
       "    </tr>\n",
       "  </tbody>\n",
       "</table>\n",
       "</div>"
      ],
      "text/plain": [
       "   dlg_id  line_n     role                                               text\n",
       "0       0       0   client                                               Алло\n",
       "1       0       1  manager                                  Алло здравствуйте\n",
       "2       0       2   client                                        Добрый день\n",
       "3       0       3  manager  Меня зовут ангелина компания диджитал бизнес з...\n",
       "4       0       4   client                                                Ага"
      ]
     },
     "execution_count": 6,
     "metadata": {},
     "output_type": "execute_result"
    }
   ],
   "source": [
    "df.head(5)"
   ]
  },
  {
   "cell_type": "code",
   "execution_count": 7,
   "id": "98769072",
   "metadata": {},
   "outputs": [
    {
     "data": {
      "text/html": [
       "<div>\n",
       "<style scoped>\n",
       "    .dataframe tbody tr th:only-of-type {\n",
       "        vertical-align: middle;\n",
       "    }\n",
       "\n",
       "    .dataframe tbody tr th {\n",
       "        vertical-align: top;\n",
       "    }\n",
       "\n",
       "    .dataframe thead th {\n",
       "        text-align: right;\n",
       "    }\n",
       "</style>\n",
       "<table border=\"1\" class=\"dataframe\">\n",
       "  <thead>\n",
       "    <tr style=\"text-align: right;\">\n",
       "      <th></th>\n",
       "      <th>dialog_id</th>\n",
       "      <th>greeting</th>\n",
       "      <th>introduction</th>\n",
       "      <th>manager_name</th>\n",
       "      <th>company_name</th>\n",
       "      <th>farewell</th>\n",
       "      <th>was_polite</th>\n",
       "    </tr>\n",
       "  </thead>\n",
       "  <tbody>\n",
       "  </tbody>\n",
       "</table>\n",
       "</div>"
      ],
      "text/plain": [
       "Empty DataFrame\n",
       "Columns: [dialog_id, greeting, introduction, manager_name, company_name, farewell, was_polite]\n",
       "Index: []"
      ]
     },
     "execution_count": 7,
     "metadata": {},
     "output_type": "execute_result"
    }
   ],
   "source": [
    "df_extracted"
   ]
  },
  {
   "cell_type": "code",
   "execution_count": 8,
   "id": "c0a0c382",
   "metadata": {},
   "outputs": [],
   "source": [
    "class Dialog:\n",
    "    def __init__(self, dlg_id):\n",
    "        self.id = dlg_id\n",
    "        self.greeted = False\n",
    "        self.greeting = \"\"\n",
    "        self.introduction = \"\"\n",
    "        self.farewell = \"\"\n",
    "        self.goodbyed = False\n",
    "        self.name = \"\"\n",
    "        self.company = \"\"\n",
    "        self.was_polite = False\n",
    "        \n",
    "    def load_to_df(self):\n",
    "        self.was_polite = self.greeted and self.goodbyed\n",
    "        data = [self.id, self.greeting, self.introduction, self.name, self.company, self.farewell, self.was_polite]\n",
    "        df_extracted.loc[len(df_extracted.index)] = data\n"
   ]
  },
  {
   "cell_type": "code",
   "execution_count": 9,
   "id": "5b603d4b",
   "metadata": {},
   "outputs": [],
   "source": [
    "def normalise(line):\n",
    "    normalised = [stemmer.stem(t) for t in line]\n",
    "    return normalised"
   ]
  },
  {
   "cell_type": "code",
   "execution_count": 10,
   "id": "3e500458",
   "metadata": {},
   "outputs": [],
   "source": [
    "def fetch(text: str, dialog: Dialog, line_n: int):\n",
    "# Приветствие\n",
    "    if not dialog.greeted and any(greeting in text for greeting in greetings):\n",
    "        dialog.greeted = True\n",
    "        dialog.greeting = text\n",
    "        \n",
    "# Прощание\n",
    "    if any(goodbye in text for goodbye in goodbyes):\n",
    "        dialog.goodbyed = True\n",
    "        dialog.farewell = text\n",
    "        \n",
    "# Имя мэнеджера\n",
    "    if (dialog.name != '' or line_n > 5):\n",
    "        return dialog\n",
    "    else:\n",
    "        text_list = text.split(sep=\" \")\n",
    "        tokenized_text = normalise(text_list)   \n",
    "        for i in range(len(tokenized_text) - 1):\n",
    "            # Быстрый поиск по ключевым словам\n",
    "            two_tokens = tokenized_text[i] + \" \" + tokenized_text[i + 1]    \n",
    "\n",
    "            if any(intro in two_tokens for intro in intros): \n",
    "                if tokenized_text[i+1] in names:\n",
    "                    dialog.name = text_list[i+1]\n",
    "                    dialog.introduction = \" \".join(text_list)\n",
    "                    break\n",
    "            # Кропотливый поиск, если быстрый не помог\n",
    "            if text_list[i] in names:\n",
    "                dialog.name = text_list[i]\n",
    "                dialog.introduction = \" \".join(text_list)\n",
    "                break\n",
    "# Компания        \n",
    "    if (dialog.company != ''):\n",
    "        return dialog\n",
    "    else:\n",
    "        text_list = text.split(sep=\" \")\n",
    "        tokenized_text = normalise(text_list)\n",
    "\n",
    "        for i in range(len(tokenized_text)):\n",
    "            if tokenized_text[i] == company_token:\n",
    "                if i == len(tokenized_text) - 1:\n",
    "                       dialog.company = text_list[i - 1]\n",
    "                else:\n",
    "                       dialog.company = text_list[i + 1]\n",
    "                break\n",
    "    return dialog"
   ]
  },
  {
   "cell_type": "code",
   "execution_count": 11,
   "id": "0a9349b7",
   "metadata": {},
   "outputs": [],
   "source": [
    "def process(line: pd.DataFrame, dialog: Dialog) -> Dialog:\n",
    "    if line['role'] == 'client':\n",
    "        return dialog\n",
    "    \n",
    "    if line['dlg_id'] != dialog.id:\n",
    "        dialog.load_to_df()\n",
    "        dialog = Dialog(line['dlg_id'])\n",
    "        \n",
    "           \n",
    "    text = line['text']\n",
    "    \n",
    "    return fetch(text, dialog, line['line_n'])"
   ]
  },
  {
   "cell_type": "code",
   "execution_count": 12,
   "id": "0173b211",
   "metadata": {},
   "outputs": [],
   "source": [
    "goodbyes_raw = [\"до свиданья\",\n",
    "\"всего доброго\",\n",
    "\"всего хорошего\",\n",
    "\"удачного дня\",\n",
    "\"до свидания\",\n",
    "\"добрый день\",\n",
    "\"добрый вечер\",\n",
    "\"прощай\",\n",
    "\"прощайте\",\n",
    "\"до скорого\",\n",
    "\"спокойной ночи\",\n",
    "\"увидимся\",\n",
    "\"счастливо\"]\n",
    "\n",
    "# Источник базы данных: https://ru.wiktionary.org/wiki/%D0%B7%D0%B4%D1%80%D0%B0%D0%B2%D1%81%D1%82%D0%B2%D1%83%D0%B9%D1%82%D0%B5"
   ]
  },
  {
   "cell_type": "code",
   "execution_count": 13,
   "id": "d102264e",
   "metadata": {},
   "outputs": [],
   "source": [
    "greetings_raw = ['здравствуйте', 'здравствуй', 'приветствую', 'привет', 'доброго времени суток', 'добрый день', 'доброе утро', 'добрый вечер']\n",
    "\n",
    "# Источник базы данных: https://ru.wiktionary.org/wiki/%D0%B4%D0%BE_%D1%81%D0%B2%D0%B8%D0%B4%D0%B0%D0%BD%D0%B8%D1%8F\n"
   ]
  },
  {
   "cell_type": "code",
   "execution_count": 14,
   "id": "2babe147",
   "metadata": {},
   "outputs": [
    {
     "name": "stdout",
     "output_type": "stream",
     "text": [
      "      ID      Name Sex  PeoplesCount     WhenPeoplesCount      Source\n",
      "0  19903     Аалия   Ж            13  23.06.2016 13:39:41  myData.biz\n",
      "1  19904  Аанжелла   Ж             0  23.06.2016 13:39:46  myData.biz\n",
      "2  19905       Аба   Ж          1000  23.06.2016 13:39:55  myData.biz\n",
      "3  19906      Абав   Ж             0  23.06.2016 13:40:02  myData.biz\n",
      "4  19907      Абам   Ж            32  23.06.2016 13:40:11  myData.biz\n"
     ]
    }
   ],
   "source": [
    "intros = ['мен зовут', 'мое им', 'вам звон']\n",
    "names_df =  pd.read_csv(\"./russian_names.csv\", sep=';')\n",
    "print(names_df.head())\n",
    "names = names_df['Name'].tolist()\n",
    "names = [name.lower() for name in names]\n",
    "\n",
    "# Источник базы данных: https://mydata.biz/ru/catalog/databases/names_db"
   ]
  },
  {
   "cell_type": "code",
   "execution_count": 15,
   "id": "a268e91d",
   "metadata": {},
   "outputs": [],
   "source": [
    "company_token = stemmer.stem(\"компания\")\n",
    "\n",
    "greetings = normalise(greetings_raw)\n",
    "goodbyes = normalise(goodbyes_raw)\n"
   ]
  },
  {
   "cell_type": "code",
   "execution_count": 16,
   "id": "8675d17c",
   "metadata": {},
   "outputs": [],
   "source": [
    "dialog = Dialog(0)\n",
    "\n",
    "for _, line in df.iterrows():\n",
    "        dialog = process(line, dialog)\n"
   ]
  },
  {
   "cell_type": "code",
   "execution_count": 17,
   "id": "e9078de2",
   "metadata": {},
   "outputs": [],
   "source": [
    "df_extracted.to_csv(\"analysis.csv\")"
   ]
  },
  {
   "cell_type": "code",
   "execution_count": 18,
   "id": "e56c9164",
   "metadata": {},
   "outputs": [
    {
     "data": {
      "text/html": [
       "<div>\n",
       "<style scoped>\n",
       "    .dataframe tbody tr th:only-of-type {\n",
       "        vertical-align: middle;\n",
       "    }\n",
       "\n",
       "    .dataframe tbody tr th {\n",
       "        vertical-align: top;\n",
       "    }\n",
       "\n",
       "    .dataframe thead th {\n",
       "        text-align: right;\n",
       "    }\n",
       "</style>\n",
       "<table border=\"1\" class=\"dataframe\">\n",
       "  <thead>\n",
       "    <tr style=\"text-align: right;\">\n",
       "      <th></th>\n",
       "      <th>dialog_id</th>\n",
       "      <th>greeting</th>\n",
       "      <th>introduction</th>\n",
       "      <th>manager_name</th>\n",
       "      <th>company_name</th>\n",
       "      <th>farewell</th>\n",
       "      <th>was_polite</th>\n",
       "    </tr>\n",
       "  </thead>\n",
       "  <tbody>\n",
       "    <tr>\n",
       "      <th>0</th>\n",
       "      <td>0</td>\n",
       "      <td>Алло здравствуйте</td>\n",
       "      <td>Меня зовут ангелина компания диджитал бизнес з...</td>\n",
       "      <td>ангелина</td>\n",
       "      <td>диджитал</td>\n",
       "      <td>Всего хорошего до свидания</td>\n",
       "      <td>True</td>\n",
       "    </tr>\n",
       "    <tr>\n",
       "      <th>1</th>\n",
       "      <td>1</td>\n",
       "      <td>Алло здравствуйте</td>\n",
       "      <td>Меня зовут ангелина компания диджитал бизнес з...</td>\n",
       "      <td>ангелина</td>\n",
       "      <td>диджитал</td>\n",
       "      <td>Угу да вижу я эту почту хорошо тогда исправлю ...</td>\n",
       "      <td>True</td>\n",
       "    </tr>\n",
       "    <tr>\n",
       "      <th>2</th>\n",
       "      <td>2</td>\n",
       "      <td>Алло здравствуйте</td>\n",
       "      <td>Меня зовут ангелина компания диджитал бизнес з...</td>\n",
       "      <td>ангелина</td>\n",
       "      <td>диджитал</td>\n",
       "      <td></td>\n",
       "      <td>False</td>\n",
       "    </tr>\n",
       "    <tr>\n",
       "      <th>3</th>\n",
       "      <td>3</td>\n",
       "      <td>Алло дмитрий добрый день</td>\n",
       "      <td>Алло дмитрий добрый день</td>\n",
       "      <td>дмитрий</td>\n",
       "      <td></td>\n",
       "      <td>Угу все хорошо да понедельника тогда всего доб...</td>\n",
       "      <td>True</td>\n",
       "    </tr>\n",
       "    <tr>\n",
       "      <th>4</th>\n",
       "      <td>4</td>\n",
       "      <td></td>\n",
       "      <td>Вот по виду платежи пообщаться помните мы вот ...</td>\n",
       "      <td>вас</td>\n",
       "      <td></td>\n",
       "      <td>Во вторник все ну с вами да тогда до вторника ...</td>\n",
       "      <td>False</td>\n",
       "    </tr>\n",
       "  </tbody>\n",
       "</table>\n",
       "</div>"
      ],
      "text/plain": [
       "   dialog_id                  greeting  \\\n",
       "0          0         Алло здравствуйте   \n",
       "1          1         Алло здравствуйте   \n",
       "2          2         Алло здравствуйте   \n",
       "3          3  Алло дмитрий добрый день   \n",
       "4          4                             \n",
       "\n",
       "                                        introduction manager_name  \\\n",
       "0  Меня зовут ангелина компания диджитал бизнес з...     ангелина   \n",
       "1  Меня зовут ангелина компания диджитал бизнес з...     ангелина   \n",
       "2  Меня зовут ангелина компания диджитал бизнес з...     ангелина   \n",
       "3                           Алло дмитрий добрый день      дмитрий   \n",
       "4  Вот по виду платежи пообщаться помните мы вот ...          вас   \n",
       "\n",
       "  company_name                                           farewell  was_polite  \n",
       "0     диджитал                         Всего хорошего до свидания        True  \n",
       "1     диджитал  Угу да вижу я эту почту хорошо тогда исправлю ...        True  \n",
       "2     диджитал                                                          False  \n",
       "3               Угу все хорошо да понедельника тогда всего доб...        True  \n",
       "4               Во вторник все ну с вами да тогда до вторника ...       False  "
      ]
     },
     "execution_count": 18,
     "metadata": {},
     "output_type": "execute_result"
    }
   ],
   "source": [
    "df_extracted"
   ]
  },
  {
   "cell_type": "code",
   "execution_count": null,
   "id": "0524fcef",
   "metadata": {},
   "outputs": [],
   "source": []
  }
 ],
 "metadata": {
  "kernelspec": {
   "display_name": "Python 3 (ipykernel)",
   "language": "python",
   "name": "python3"
  },
  "language_info": {
   "codemirror_mode": {
    "name": "ipython",
    "version": 3
   },
   "file_extension": ".py",
   "mimetype": "text/x-python",
   "name": "python",
   "nbconvert_exporter": "python",
   "pygments_lexer": "ipython3",
   "version": "3.8.10"
  }
 },
 "nbformat": 4,
 "nbformat_minor": 5
}
