{
  "cells": [
    {
      "cell_type": "markdown",
      "metadata": {
        "id": "7-BeZ0mhTEZT"
      },
      "source": [
        "# Машинное обучение, ФКН ВШЭ\n",
        "\n",
        "## Практическое задание 5. Решающие деревья\n",
        "\n",
        "### Общая информация\n",
        "Дата выдачи: 29.11.2023\n",
        "\n",
        "Мягий дедлайн: 23:59 12.12.2023\n",
        "\n",
        "Жестокий дедлайн: 23:59 14.12.2023"
      ]
    },
    {
      "cell_type": "markdown",
      "metadata": {
        "id": "l790O-S-TEZU"
      },
      "source": [
        "### О задании\n",
        "\n",
        "Задание состоит из двух разделов:\n",
        "1. В первом разделе вы научитесь применять деревья из sklearn для задачи классификации. Вы посмотрите какие разделяющие поверхности деревья строят для различных датасетов и проанализируете их зависимость от различных гиперпараметров.\n",
        "2. Во втором разделе вы попробуете реализовать свое решающее дерево и сравните его со стандартное имплиментацией из sklearn. Вы также протестируете деревья на более сложных датасетах и сравните различные подходы к кодированию категориальных признаков.\n",
        "\n",
        "### Оценивание и штрафы\n",
        "Каждая из задач имеет определенную «стоимость» (указана в скобках около задачи). Максимально допустимая оценка за работу — 10 баллов.\n",
        "\n",
        "Сдавать задание после указанного срока сдачи нельзя. При выставлении неполного балла за задание в связи с наличием ошибок на усмотрение проверяющего предусмотрена возможность исправить работу на указанных в ответном письме условиях.\n",
        "\n",
        "Задание выполняется самостоятельно. «Похожие» решения считаются плагиатом и все задействованные студенты (в том числе те, у кого списали) не могут получить за него больше 0 баллов (подробнее о плагиате см. на странице курса). Если вы нашли решение какого-то из заданий (или его часть) в открытом источнике, необходимо указать ссылку на этот источник в отдельном блоке в конце вашей работы (скорее всего вы будете не единственным, кто это нашел, поэтому чтобы исключить подозрение в плагиате, необходима ссылка на источник).\n",
        "\n",
        "Неэффективная реализация кода может негативно отразиться на оценке.\n",
        "\n",
        "\n",
        "### Формат сдачи\n",
        "Задания сдаются через систему anytask. Посылка должна содержать:\n",
        "* Ноутбук homework-practice-05-trees-Username.ipynb\n",
        "* Модуль hw5code.py\n",
        "* Ссылки на посылки в Яндекс.Контесте для обеих задач\n",
        "\n",
        "В контест https://contest.yandex.ru/contest/56884/problems/ нужно отправить файл hw5code.py с реализованными функциями и классами.\n",
        "\n",
        "Username — ваша фамилия и имя на латинице именно в таком порядке\n",
        "\n",
        "Для удобства проверки самостоятельно посчитайте свою максимальную оценку (исходя из набора решенных задач) и укажите ниже:\n",
        "\n",
        "__Оценка:__"
      ]
    },
    {
      "cell_type": "code",
      "execution_count": null,
      "metadata": {
        "id": "VjUoF1GZTEZW"
      },
      "outputs": [],
      "source": [
        "import numpy as np\n",
        "import matplotlib.pyplot as plt\n",
        "from sklearn.tree import DecisionTreeClassifier\n",
        "from matplotlib.colors import Colormap, ListedColormap\n",
        "import pandas as pd\n",
        "from sklearn.model_selection import train_test_split\n",
        "import seaborn as sns\n",
        "sns.set(style='whitegrid')\n",
        "\n",
        "RANDOM_STATE = 42\n",
        "\n",
        "import warnings\n",
        "warnings.filterwarnings('ignore')"
      ]
    },
    {
      "cell_type": "markdown",
      "metadata": {
        "id": "uXPLGqNCTEZY"
      },
      "source": [
        "# 1. Решающие деревья. Визуализация."
      ]
    },
    {
      "cell_type": "markdown",
      "metadata": {
        "id": "hUjqXVx6TEZY"
      },
      "source": [
        "В этой части мы рассмотрим два простых двумерных датасета сделанных с помощью `make_moons`, `make_circles` и посмотрим как ведет себя разделяющая поверхность в зависимости от различных гиперпараметров."
      ]
    },
    {
      "cell_type": "code",
      "execution_count": null,
      "metadata": {
        "id": "4ZTll755TEZZ"
      },
      "outputs": [],
      "source": [
        "from sklearn.datasets import make_moons, make_circles, make_classification\n",
        "datasets = [\n",
        "    make_circles(noise=0.2, factor=0.5, random_state=42),\n",
        "    make_moons(noise=0.2, random_state=42),\n",
        "    make_classification(n_classes=3, n_clusters_per_class=1, n_features=2, class_sep=.8, random_state=3,\n",
        "                        n_redundant=0., )\n",
        "]"
      ]
    },
    {
      "cell_type": "code",
      "execution_count": null,
      "metadata": {
        "id": "RazQQTYvTEZZ"
      },
      "outputs": [],
      "source": [
        "palette = sns.color_palette(n_colors=3)\n",
        "cmap = ListedColormap(palette)"
      ]
    },
    {
      "cell_type": "code",
      "execution_count": null,
      "metadata": {
        "id": "-I8-BM9fTEZa"
      },
      "outputs": [],
      "source": [
        "plt.figure(figsize=(15, 4))\n",
        "for i, (x, y) in enumerate(datasets):\n",
        "    plt.subplot(1, 3, i + 1)\n",
        "    plt.scatter(x[:, 0], x[:, 1], c=y, cmap=cmap, alpha=.8)"
      ]
    },
    {
      "cell_type": "markdown",
      "metadata": {
        "id": "J-IG5UiBTEZa"
      },
      "source": [
        "__Задание 1. (1 балл)__\n",
        "\n",
        "Для каждого датасета обучите решающее дерево с параметрами по умолчанию, предварительно разбив выборку на обучающую и тестовую. Постройте разделящие поверхности (для этого воспользуйтесь функцией `plot_surface`, пример ниже). Посчитайте accuracy на обучающей и тестовой выборках. Сильно ли деревья переобучились?"
      ]
    },
    {
      "cell_type": "code",
      "execution_count": null,
      "metadata": {
        "id": "pBttFqh-TEZb"
      },
      "outputs": [],
      "source": [
        "def plot_surface(clf, X, y):\n",
        "    plot_step = 0.01\n",
        "    palette = sns.color_palette(n_colors=len(np.unique(y)))\n",
        "    cmap = ListedColormap(palette)\n",
        "    x_min, x_max = X[:, 0].min() - 1, X[:, 0].max() + 1\n",
        "    y_min, y_max = X[:, 1].min() - 1, X[:, 1].max() + 1\n",
        "    xx, yy = np.meshgrid(np.arange(x_min, x_max, plot_step),\n",
        "                         np.arange(y_min, y_max, plot_step))\n",
        "    plt.tight_layout(h_pad=0.5, w_pad=0.5, pad=2.5)\n",
        "\n",
        "    Z = clf.predict(np.c_[xx.ravel(), yy.ravel()])\n",
        "    Z = Z.reshape(xx.shape)\n",
        "    cs = plt.contourf(xx, yy, Z, cmap=cmap, alpha=0.3)\n",
        "\n",
        "    plt.scatter(X[:, 0], X[:, 1], c=y, cmap=cmap, alpha=.7,\n",
        "                edgecolors=np.array(palette)[y], linewidths=2)"
      ]
    },
    {
      "cell_type": "code",
      "execution_count": null,
      "metadata": {
        "id": "DcfPPap5TEZb"
      },
      "outputs": [],
      "source": [
        "# Пример:\n",
        "from sklearn.linear_model import LinearRegression\n",
        "X, y = datasets[2]\n",
        "lr  = LinearRegression().fit(X, y)\n",
        "plot_surface(lr, X, y)"
      ]
    },
    {
      "cell_type": "code",
      "execution_count": null,
      "metadata": {
        "id": "ujG9UUxTTEZc"
      },
      "outputs": [],
      "source": [
        "from sklearn.metrics import accuracy_score\n",
        "\n",
        "dataset_name = [\"moons\", \"circles\", \"classification\"]\n",
        "\n",
        "splitted_data = []\n",
        "\n",
        "def train_trees(datasets, dataset: int = None, **model_kwargs: dict):\n",
        "    if dataset is not None:\n",
        "        datasets = [datasets[dataset]]\n",
        "    for i, (X,y) in enumerate(datasets):\n",
        "        X_train, X_test, y_train, y_test = train_test_split(X, y, random_state=RANDOM_STATE, test_size=0.33)\n",
        "        tree = DecisionTreeClassifier(random_state=RANDOM_STATE, **model_kwargs).fit(X_train, y_train)\n",
        "        plot_surface(tree, X, y)\n",
        "        if dataset is not None:\n",
        "            plt.title(dataset_name[dataset])\n",
        "        else:\n",
        "            plt.title(dataset_name[i])\n",
        "\n",
        "        accuracy = lambda pred, true: sum(pred == true) / len(true)\n",
        "\n",
        "        print(f\"Train Acc: {accuracy_score(tree.predict(X_train), y_train)}\\nTest Acc: {accuracy_score(tree.predict(X_test), y_test)}\")\n",
        "        # print(f\"Train Acc: {accuracy_score(tree.predict(X_train), y_train)}\\nTest Acc: {accuracy_score(tree.predict(X_test), y_test)}\")\n",
        "        plt.show()\n",
        "\n",
        "train_trees(datasets)"
      ]
    },
    {
      "cell_type": "markdown",
      "metadata": {
        "id": "7UDg3DZKTEZc"
      },
      "source": [
        "__Ответ:__ Да, очень сильно, буквально запомнили обучающую выборку"
      ]
    },
    {
      "cell_type": "markdown",
      "metadata": {
        "id": "LddFdX_VTEZc"
      },
      "source": [
        "__Задание 2. (1.5 балла)__\n",
        "\n",
        "Попробуйте перебрать несколько параметров для регуляризации (напр. `max_depth`, `min_samples_leaf`). Для каждого набора гиперпараметров постройте разделяющую поверхность, выведите обучающую и тестовую ошибки. Можно делать кросс-валидацию или просто разбиение на трейн и тест, главное делайте каждый раз одинаковое разбиение, чтобы можно было корректно сравнивать (помните же, что итоговое дерево сильно зависит от небольшого изменения обучающей выборки?). Проследите как меняется разделяющая поверхность и обобщающая способность. Почему так происходит, одинаково ли изменение для разных датасетов?"
      ]
    },
    {
      "cell_type": "code",
      "execution_count": null,
      "metadata": {
        "id": "IKJZfzVDTEZd"
      },
      "outputs": [],
      "source": [
        "max_depth = [5, 10, 15]\n",
        "min_samples_leaf = [1, 5, 10]\n",
        "\n",
        "for d in max_depth:\n",
        "    for s in min_samples_leaf:\n",
        "        print(\"-\" * 100, \"\\n\" f\"\\ndepth: {d}, samples_leaf: {s}\\n\", \"-\"*100)\n",
        "        train_trees(datasets=datasets, dataset=0, max_depth=d, min_samples_leaf=s)\n"
      ]
    },
    {
      "cell_type": "code",
      "source": [
        "for d in max_depth:\n",
        "    for s in min_samples_leaf:\n",
        "        print(\"-\" * 100, \"\\n\" f\"\\ndepth: {d}, samples_leaf: {s}\\n\", \"-\"*100)\n",
        "        train_trees(datasets=datasets, dataset=1, max_depth=d, min_samples_leaf=s)\n"
      ],
      "metadata": {
        "id": "ek8avH3Q0tEf"
      },
      "execution_count": null,
      "outputs": []
    },
    {
      "cell_type": "code",
      "source": [
        "for d in max_depth:\n",
        "    for s in min_samples_leaf:\n",
        "        print(\"-\" * 100, \"\\n\" f\"\\ndepth: {d}, samples_leaf: {s}\\n\", \"-\"*100)\n",
        "        train_trees(datasets=datasets, dataset=2, max_depth=d, min_samples_leaf=s)\n"
      ],
      "metadata": {
        "id": "4atVncQ10wdj"
      },
      "execution_count": null,
      "outputs": []
    },
    {
      "cell_type": "markdown",
      "metadata": {
        "id": "GQGcNWj-TEZd"
      },
      "source": [
        "__Ответ:__ Низкий min_sample_leaf приводит к переобучению тк. мы позволяем дереву запомнить каждый объект (распускать корни листья всего для одного объекта). Чем дерево глубже, тем меньше оно генерализирует. Выглядит как будто лучше всего модели обобщаются на датасете classification. Довольно простое дерево на нем может получить хорошие метрики"
      ]
    },
    {
      "cell_type": "markdown",
      "metadata": {
        "id": "3gALYvCrTEZd"
      },
      "source": [
        "# 2. Решающие деревья своими руками"
      ]
    },
    {
      "cell_type": "markdown",
      "metadata": {
        "id": "J8juQjFKTEZd"
      },
      "source": [
        "В этой части вам нужно реализовать свой класс для обучения решающего дерева в задаче бинарной классификации с возможностью обработки вещественных и категориальных признаков."
      ]
    },
    {
      "cell_type": "markdown",
      "metadata": {
        "id": "7eEp7M9ATEZe"
      },
      "source": [
        "__Задание 3. (1.5 балл)__\n",
        "\n",
        "Реализуйте функцию find_best_split из модуля hw5code.py"
      ]
    },
    {
      "cell_type": "markdown",
      "source": [
        "Под критерием Джини здесь подразумевается следующая функция:\n",
        "$$Q(R) = -\\frac {|R_l|}{|R|}H(R_l) -\\frac {|R_r|}{|R|}H(R_r)$$,\n",
        "$R$ — множество объектов, $R_l$ и $R_r$ — объекты, попавшие в левое и правое поддерево,\n",
        "$H(R) = 1-p_1^2-p_0^2$, $p_1$, $p_0$ — доля объектов класса 1 и 0 соответственно.\n",
        "\n",
        "$H(R) = 1 - p^2_1 - (1-p_1)^2 = 1- p_1^2 - 1 + 2p_1 - p_1^2 =2p_1 - 2p_1^2 \\neq 2p_1(1-p_1)$"
      ],
      "metadata": {
        "id": "l9RhwF6M27AT"
      }
    },
    {
      "cell_type": "markdown",
      "source": [
        "https://contest.yandex.ru/contest/56884/run-report/102719507/"
      ],
      "metadata": {
        "id": "G-Vuk_U8If3b"
      }
    },
    {
      "cell_type": "code",
      "source": [
        "# %%time\n",
        "\n",
        "import numpy as np\n",
        "\n",
        "def calc_proportion(mask):\n",
        "    pos_count = np.sum(mask==1, axis=1)\n",
        "    neg_count = np.sum(mask==0, axis=1)\n",
        "    pos_prop = pos_count / (pos_count + neg_count)\n",
        "    neg_prop = 1 - pos_prop\n",
        "\n",
        "    return pos_prop, neg_prop\n",
        "\n",
        "def find_best_split(feature_vector: np.array, target_vector: np.array, verbose=False):\n",
        "    sorted_indeces = np.argsort(feature_vector)\n",
        "    target_vector = target_vector[sorted_indeces]\n",
        "    unsorted_features = feature_vector.copy()\n",
        "\n",
        "    sorted_features = feature_vector[sorted_indeces]\n",
        "    _, unique_indices = np.unique(sorted_features, return_index=True)\n",
        "    unique_indices = unique_indices\n",
        "    unique_features = sorted_features[unique_indices]\n",
        "\n",
        "    thresholds = (unique_features[1:] + unique_features[:-1]) / 2\n",
        "\n",
        "    R_left = np.arange(1, target_vector.shape[0])\n",
        "    R_right = target_vector.shape[0] -R_left\n",
        "\n",
        "    p1_left = np.cumsum(target_vector[:-1]) / R_left\n",
        "    p1_right = np.flip( np.cumsum( np.flip (target_vector[1:] ) ) ) / R_right\n",
        "\n",
        "    l_imp = 1 - np.square(p1_left) - np.square(1 - p1_left)\n",
        "    r_imp = 1 - np.square(p1_right) - np.square(1 - p1_right)\n",
        "\n",
        "    ginis = np.sum([-l_imp * R_left / target_vector.shape[0], -r_imp * R_right / target_vector.shape[0]], axis=0)\n",
        "    if verbose:\n",
        "        print(\"unsorted features: \", unsorted_features)\n",
        "        print(\"sorted features:\", sorted_features)\n",
        "        print(\"unique features: \", unique_features)\n",
        "        print(\"Thresholds:\", thresholds)\n",
        "        print(\"ginis:\", ginis)\n",
        "    # takes first entries of sorted_feature_vector and removes first element so shapes cast nicely\n",
        "    first_entries = unique_indices[1:] - 1\n",
        "    ginis = ginis[first_entries]\n",
        "    if verbose:\n",
        "        print(\"first_entries: \", first_entries,\"\\t\", sorted_features[first_entries])\n",
        "        print(\"ginis on thresholds: \", ginis)\n",
        "\n",
        "    if np.all(sorted_features == sorted_features[0]):\n",
        "        best_gini_ind = 0\n",
        "        thresholds = [0]\n",
        "        ginis = [0]\n",
        "    else:\n",
        "        best_gini_ind = np.argmax(ginis)\n",
        "\n",
        "    return thresholds, \\\n",
        "            ginis, \\\n",
        "            thresholds[best_gini_ind], \\\n",
        "            ginis[best_gini_ind]\n",
        "\n",
        "# a, targets = np.array([1,2,2,3,3,3,4]), np.array([0,0,1,0,0,1,1])\n",
        "# assert a.shape == targets.shape\n",
        "\n",
        "# find_best_split(a, targets)"
      ],
      "metadata": {
        "id": "R9T5vUVDAY78"
      },
      "execution_count": null,
      "outputs": []
    },
    {
      "cell_type": "code",
      "source": [
        "# _, unique_indices = np.unique(np.sort(), return_index=True); unique_indices\n",
        "# unique_indices[:-1]"
      ],
      "metadata": {
        "id": "K8sh2UyUHqXT"
      },
      "execution_count": null,
      "outputs": []
    },
    {
      "cell_type": "markdown",
      "metadata": {
        "id": "PJrV4F3JTEZe"
      },
      "source": [
        "__Задание 4. (0.5 балла)__\n",
        "\n",
        "Загрузите таблицу [students.csv](https://github.com/esokolov/ml-course-hse/blob/master/2022-fall/homeworks-practice/homework-practice-05-trees/students.csv) (это немного преобразованный датасет [User Knowledge](https://archive.ics.uci.edu/ml/datasets/User+Knowledge+Modeling)). В ней признаки объекта записаны в первых пяти столбцах, а в последнем записана целевая переменная (класс: 0 или 1). Постройте на одном изображении пять кривых \"порог — значение критерия Джини\" для всех пяти признаков. Отдельно визуализируйте scatter-графики \"значение признака — класс\" для всех пяти признаков."
      ]
    },
    {
      "cell_type": "code",
      "execution_count": null,
      "metadata": {
        "id": "K7w-m-u9TEZe"
      },
      "outputs": [],
      "source": [
        "df = pd.read_csv(\"students.csv\")"
      ]
    },
    {
      "cell_type": "code",
      "source": [
        "df.head()"
      ],
      "metadata": {
        "id": "VHQsO3WWS33B"
      },
      "execution_count": null,
      "outputs": []
    },
    {
      "cell_type": "code",
      "source": [
        "import seaborn as sns\n",
        "\n",
        "target = df[\"UNS\"]\n",
        "names=[]\n",
        "for name, feature in df.drop(\"UNS\", axis=1).items():\n",
        "    t, g, _, _ = find_best_split(feature.to_numpy(), target.to_numpy())\n",
        "    fig = sns.scatterplot(x=t,y=g)\n",
        "    names += [name]\n",
        "plt.title(\"порог — значение критерия Джини\")\n",
        "plt.xlabel(\"Threshold\")\n",
        "plt.ylabel(\"Gini\")\n",
        "plt.legend(labels=names)"
      ],
      "metadata": {
        "id": "WDlGBjUKTB_V"
      },
      "execution_count": null,
      "outputs": []
    },
    {
      "cell_type": "code",
      "source": [
        "target = df[\"UNS\"]\n",
        "names=[]\n",
        "for name, feature in df.drop(\"UNS\", axis=1).items():\n",
        "    fig = sns.scatterplot(x=feature,y=target)\n",
        "    names += [name]\n",
        "    plt.title(f\"значение признака — класс ({name})\")\n",
        "    plt.xlabel(\"Value\")\n",
        "    plt.ylabel(\"Class\")\n",
        "    plt.show()\n"
      ],
      "metadata": {
        "id": "FeM7_Bp7Y7uj"
      },
      "execution_count": null,
      "outputs": []
    },
    {
      "cell_type": "markdown",
      "metadata": {
        "id": "NUQ4vjR0TEZf"
      },
      "source": [
        "__Задание 5. (0.5 балла)__\n",
        "\n",
        "Исходя из кривых значений критерия Джини, по какому признаку нужно производить деление выборки на два поддерева? Согласуется ли этот результат с визуальной оценкой scatter-графиков? Как бы охарактеризовали вид кривой для \"хороших\" признаков, по которым выборка делится почти идеально? Чем отличаются кривые для признаков, по которым деление практически невозможно?"
      ]
    },
    {
      "cell_type": "markdown",
      "metadata": {
        "id": "lFg9VPmuTEZf"
      },
      "source": [
        "\n",
        "\n",
        "**Ответ:** PEG. Да, очень заметно как можно понизить impurity правильным порогом. Хорошие признаки похожи на bell-curve, или может на перевернутую параболуб кривые для признаков, по которым деление почти невозможно немного флуктуируют на низких значениях негативного impurity, какой бы порог не поставил, далеко не уйдешь..."
      ]
    },
    {
      "cell_type": "markdown",
      "metadata": {
        "id": "S_0CMUJyTEZf"
      },
      "source": [
        "__Задание 6. (1.5 балла).__\n",
        "\n",
        "Разберитесь с уже написанным кодом в классе DecisionTree модуля hw5code.py. Найдите ошибки в реализации метода \\_fit_node. Напишите функцию \\_predict_node.\n",
        "\n",
        " Построение дерева осуществляется согласно базовому жадному алгоритму, предложенному в [лекции](https://github.com/esokolov/ml-course-hse/blob/master/2020-fall/lecture-notes/lecture07-trees.pdf) в разделе «Построение дерева». Выбор лучшего разбиения необходимо производить по критерию Джини. Критерий останова: все объекты в листе относятся к одному классу или ни по одному признаку нельзя разбить выборку. Ответ в листе: наиболее часто встречающийся класс в листе. Для категориальных признаков выполняется преобразование, описанное в лекции в разделе «Учет категориальных признаков»."
      ]
    },
    {
      "cell_type": "markdown",
      "source": [
        "https://contest.yandex.ru/contest/56884/run-report/102812009/"
      ],
      "metadata": {
        "id": "I6ctELsGqvtg"
      }
    },
    {
      "cell_type": "code",
      "source": [
        "import numpy as np\n",
        "from collections import Counter\n",
        "from sklearn.base import BaseEstimator, ClassifierMixin\n",
        "\n",
        "\n",
        "class DecisionTree(BaseEstimator, ClassifierMixin):\n",
        "    def __init__(self, feature_types, max_depth=None, min_samples_split=None, min_samples_leaf=None, verbose=False, tree={}):\n",
        "        # if np.any(list(map(lambda x: x != \"real\" and x != \"categorical\", feature_types))):\n",
        "        #     raise ValueError(\"There is unknown feature type\")\n",
        "\n",
        "        # [\"type\"] - terminal / nonterminal\n",
        "        # [\"left_child\"], [\"right_child\"]\n",
        "        # [\"class\"] - predicted class\n",
        "        # [\"feature_split\"] - feature index to split on\n",
        "        # [\"threshold\"] - T value for threshold\n",
        "        # [\"categories_split\"] - subset of categories which go left\n",
        "\n",
        "        self.tree = tree\n",
        "        self.feature_types = feature_types\n",
        "        self.max_depth = max_depth\n",
        "        self.min_samples_split = min_samples_split\n",
        "        self.min_samples_leaf = min_samples_leaf\n",
        "        self.verbose = verbose\n",
        "\n",
        "    def _fit_node(self, sub_X, sub_y, node):\n",
        "        if np.all(sub_y == sub_y[0]):  # Use '==' for comparison\n",
        "            node[\"type\"] = \"terminal\"\n",
        "            node[\"class\"] = sub_y[0]\n",
        "            return\n",
        "\n",
        "        feature_best, threshold_best, gini_best, split = None, None, None, None\n",
        "        for feature in range(sub_X.shape[1]):  # Removed  index\n",
        "\n",
        "            feature_type = self.feature_types[feature]\n",
        "            categories_map = {}\n",
        "\n",
        "            if feature_type == \"real\":\n",
        "                feature_vector = sub_X[:, feature]\n",
        "            elif feature_type == \"categorical\":\n",
        "                counts = Counter(sub_X[:, feature])\n",
        "                clicks = Counter(sub_X[sub_y == 1, feature])\n",
        "                ratio = {}\n",
        "                for key, current_count in counts.items():\n",
        "                    if key in clicks:\n",
        "                        current_click = clicks[key]\n",
        "                    else:\n",
        "                        current_click = 0\n",
        "                    ratio[key] = current_click / current_count  # ratio calculation {\"B\": 0.3, \"A\": 0.6, \"C\": 0.1, }\n",
        "                sorted_categories = sorted(ratio, key=ratio.get) # [\"C\", \"B\", \"A\"]\n",
        "                categories_map = dict(zip(sorted_categories, range(len(sorted_categories)))) # {\"C\": 0, \"B\": 1, \"A\": 2}\n",
        "\n",
        "                feature_vector = np.array(list(map(lambda x: categories_map[x], sub_X[:, feature]))) # [\"C\", \"B\"] -> [0, 1]\n",
        "            else:\n",
        "                raise ValueError(\"Invalid feature type\")\n",
        "\n",
        "            if len(set(feature_vector)) == 1:  # uniqueness\n",
        "                continue\n",
        "\n",
        "            _, _, threshold, gini = find_best_split(feature_vector, sub_y, verbose=self.verbose)\n",
        "            if gini_best is None or gini > gini_best:\n",
        "                feature_best = feature\n",
        "                gini_best = gini\n",
        "                split = feature_vector < threshold\n",
        "\n",
        "                if feature_type == \"real\":\n",
        "                    threshold_best = threshold\n",
        "                elif feature_type == \"categorical\":\n",
        "                    # such categories that go into left sub-tree\n",
        "                    threshold_best = [x[0] for x in categories_map.items() if x[1] < threshold]\n",
        "\n",
        "                else:\n",
        "                    raise ValueError(\"Invalid feature type\")\n",
        "\n",
        "        if feature_best is None:\n",
        "            node[\"type\"] = \"terminal\"\n",
        "            node[\"class\"] = Counter(sub_y).most_common(1)[0][0]  # Extract the class from the most_common result\n",
        "            return\n",
        "\n",
        "        node[\"type\"] = \"nonterminal\"\n",
        "\n",
        "        node[\"feature_split\"] = feature_best\n",
        "        if self.feature_types[feature_best] == \"real\":\n",
        "            node[\"threshold\"] = threshold_best\n",
        "        elif self.feature_types[feature_best] == \"categorical\":\n",
        "            node[\"categories_split\"] = threshold_best\n",
        "        else:\n",
        "            raise ValueError(\"Invalid feature type\")\n",
        "\n",
        "        node[\"left_child\"], node[\"right_child\"] = {}, {}\n",
        "        self._fit_node(sub_X[split], sub_y[split], node[\"left_child\"])\n",
        "        self._fit_node(sub_X[np.logical_not(split)], sub_y[np.logical_not(split)], node[\"right_child\"])\n",
        "\n",
        "\n",
        "\n",
        "    def _predict_node(self, x: np.array, node):\n",
        "        # x - one observation (vector)\n",
        "        if node[\"type\"] == \"terminal\":\n",
        "            return node[\"class\"]\n",
        "        elif node[\"type\"] == \"nonterminal\":\n",
        "            split_feature_i = node[\"feature_split\"]\n",
        "            feature_type = self.feature_types[split_feature_i]\n",
        "            # print(f\"x: {x}, split_feature_i: {split_feature_i}\")\n",
        "            splitting_feature = x[split_feature_i]\n",
        "\n",
        "            if feature_type == \"real\":\n",
        "                if splitting_feature < node[\"threshold\"]:\n",
        "                    return self._predict_node(x, node[\"left_child\"])\n",
        "                else:\n",
        "                    return self._predict_node(x, node[\"right_child\"])\n",
        "            elif feature_type == \"categorical\":\n",
        "                if splitting_feature in node[\"categories_split\"]:\n",
        "                    return self._predict_node(x, node[\"left_child\"])\n",
        "                else:\n",
        "                    return self._predict_node(x, node[\"right_child\"])\n",
        "            else:\n",
        "                raise ValueError\n",
        "            self.log_node(node)\n",
        "        else:\n",
        "            raise ValueError\n",
        "\n",
        "    def fit(self, X, y):\n",
        "        assert(len(y) > 0), len(y)\n",
        "\n",
        "        self._fit_node(X, y, self.tree)\n",
        "        return self\n",
        "\n",
        "    def predict(self, X):\n",
        "        predicted = []\n",
        "        for x in X:\n",
        "            #x is row (one observation)\n",
        "            predicted.append(self._predict_node(x, self.tree))\n",
        "        return np.array(predicted)\n",
        "\n",
        "    def log_node(self,tree):\n",
        "        split_feature_i = tree[\"feature_split\"]\n",
        "        feature_type = self.feature_types[split_feature_i]\n",
        "        info = f\"\"\"\n",
        "[\"type\"] = {tree.get(\"type\")}\n",
        "[\"class\"] = {tree.get(\"class\")}\n",
        "[\"feature_split\"] = {tree.get(\"feature_split\")}\n",
        "[\"threshold\"] = {tree.get(\"threshold\")}\n",
        "[\"categories_split\"] = {tree.get(\"categories_split\")}\n",
        "feature_type = {feature_type}\n",
        "        \"\"\"\n",
        "        print(info)\n",
        "\n",
        "tree = DecisionTree(feature_types, verbose=False)\n",
        "\n",
        "X_cut = X_train.to_numpy()[:20,:]\n",
        "y_cut = y_train.to_numpy()[:20]\n",
        "tree.fit(X_cut, y_cut)"
      ],
      "metadata": {
        "id": "ez-5ed3-aMPX",
        "colab": {
          "base_uri": "https://localhost:8080/",
          "height": 196
        },
        "outputId": "b3b0df3c-ce1c-4be0-ea8a-41c4afdfb36a"
      },
      "execution_count": null,
      "outputs": [
        {
          "output_type": "execute_result",
          "data": {
            "text/plain": [
              "DecisionTree(feature_types=['categorical', 'categorical', 'categorical',\n",
              "                            'categorical', 'categorical', 'categorical',\n",
              "                            'categorical', 'categorical', 'categorical',\n",
              "                            'categorical', 'categorical', 'categorical',\n",
              "                            'categorical', 'categorical', 'categorical',\n",
              "                            'categorical', 'categorical', 'categorical',\n",
              "                            'categorical', 'categorical', 'categorical',\n",
              "                            'categorical'])"
            ],
            "text/html": [
              "<style>#sk-container-id-1 {color: black;background-color: white;}#sk-container-id-1 pre{padding: 0;}#sk-container-id-1 div.sk-toggleable {background-color: white;}#sk-container-id-1 label.sk-toggleable__label {cursor: pointer;display: block;width: 100%;margin-bottom: 0;padding: 0.3em;box-sizing: border-box;text-align: center;}#sk-container-id-1 label.sk-toggleable__label-arrow:before {content: \"▸\";float: left;margin-right: 0.25em;color: #696969;}#sk-container-id-1 label.sk-toggleable__label-arrow:hover:before {color: black;}#sk-container-id-1 div.sk-estimator:hover label.sk-toggleable__label-arrow:before {color: black;}#sk-container-id-1 div.sk-toggleable__content {max-height: 0;max-width: 0;overflow: hidden;text-align: left;background-color: #f0f8ff;}#sk-container-id-1 div.sk-toggleable__content pre {margin: 0.2em;color: black;border-radius: 0.25em;background-color: #f0f8ff;}#sk-container-id-1 input.sk-toggleable__control:checked~div.sk-toggleable__content {max-height: 200px;max-width: 100%;overflow: auto;}#sk-container-id-1 input.sk-toggleable__control:checked~label.sk-toggleable__label-arrow:before {content: \"▾\";}#sk-container-id-1 div.sk-estimator input.sk-toggleable__control:checked~label.sk-toggleable__label {background-color: #d4ebff;}#sk-container-id-1 div.sk-label input.sk-toggleable__control:checked~label.sk-toggleable__label {background-color: #d4ebff;}#sk-container-id-1 input.sk-hidden--visually {border: 0;clip: rect(1px 1px 1px 1px);clip: rect(1px, 1px, 1px, 1px);height: 1px;margin: -1px;overflow: hidden;padding: 0;position: absolute;width: 1px;}#sk-container-id-1 div.sk-estimator {font-family: monospace;background-color: #f0f8ff;border: 1px dotted black;border-radius: 0.25em;box-sizing: border-box;margin-bottom: 0.5em;}#sk-container-id-1 div.sk-estimator:hover {background-color: #d4ebff;}#sk-container-id-1 div.sk-parallel-item::after {content: \"\";width: 100%;border-bottom: 1px solid gray;flex-grow: 1;}#sk-container-id-1 div.sk-label:hover label.sk-toggleable__label {background-color: #d4ebff;}#sk-container-id-1 div.sk-serial::before {content: \"\";position: absolute;border-left: 1px solid gray;box-sizing: border-box;top: 0;bottom: 0;left: 50%;z-index: 0;}#sk-container-id-1 div.sk-serial {display: flex;flex-direction: column;align-items: center;background-color: white;padding-right: 0.2em;padding-left: 0.2em;position: relative;}#sk-container-id-1 div.sk-item {position: relative;z-index: 1;}#sk-container-id-1 div.sk-parallel {display: flex;align-items: stretch;justify-content: center;background-color: white;position: relative;}#sk-container-id-1 div.sk-item::before, #sk-container-id-1 div.sk-parallel-item::before {content: \"\";position: absolute;border-left: 1px solid gray;box-sizing: border-box;top: 0;bottom: 0;left: 50%;z-index: -1;}#sk-container-id-1 div.sk-parallel-item {display: flex;flex-direction: column;z-index: 1;position: relative;background-color: white;}#sk-container-id-1 div.sk-parallel-item:first-child::after {align-self: flex-end;width: 50%;}#sk-container-id-1 div.sk-parallel-item:last-child::after {align-self: flex-start;width: 50%;}#sk-container-id-1 div.sk-parallel-item:only-child::after {width: 0;}#sk-container-id-1 div.sk-dashed-wrapped {border: 1px dashed gray;margin: 0 0.4em 0.5em 0.4em;box-sizing: border-box;padding-bottom: 0.4em;background-color: white;}#sk-container-id-1 div.sk-label label {font-family: monospace;font-weight: bold;display: inline-block;line-height: 1.2em;}#sk-container-id-1 div.sk-label-container {text-align: center;}#sk-container-id-1 div.sk-container {/* jupyter's `normalize.less` sets `[hidden] { display: none; }` but bootstrap.min.css set `[hidden] { display: none !important; }` so we also need the `!important` here to be able to override the default hidden behavior on the sphinx rendered scikit-learn.org. See: https://github.com/scikit-learn/scikit-learn/issues/21755 */display: inline-block !important;position: relative;}#sk-container-id-1 div.sk-text-repr-fallback {display: none;}</style><div id=\"sk-container-id-1\" class=\"sk-top-container\"><div class=\"sk-text-repr-fallback\"><pre>DecisionTree(feature_types=[&#x27;categorical&#x27;, &#x27;categorical&#x27;, &#x27;categorical&#x27;,\n",
              "                            &#x27;categorical&#x27;, &#x27;categorical&#x27;, &#x27;categorical&#x27;,\n",
              "                            &#x27;categorical&#x27;, &#x27;categorical&#x27;, &#x27;categorical&#x27;,\n",
              "                            &#x27;categorical&#x27;, &#x27;categorical&#x27;, &#x27;categorical&#x27;,\n",
              "                            &#x27;categorical&#x27;, &#x27;categorical&#x27;, &#x27;categorical&#x27;,\n",
              "                            &#x27;categorical&#x27;, &#x27;categorical&#x27;, &#x27;categorical&#x27;,\n",
              "                            &#x27;categorical&#x27;, &#x27;categorical&#x27;, &#x27;categorical&#x27;,\n",
              "                            &#x27;categorical&#x27;])</pre><b>In a Jupyter environment, please rerun this cell to show the HTML representation or trust the notebook. <br />On GitHub, the HTML representation is unable to render, please try loading this page with nbviewer.org.</b></div><div class=\"sk-container\" hidden><div class=\"sk-item\"><div class=\"sk-estimator sk-toggleable\"><input class=\"sk-toggleable__control sk-hidden--visually\" id=\"sk-estimator-id-1\" type=\"checkbox\" checked><label for=\"sk-estimator-id-1\" class=\"sk-toggleable__label sk-toggleable__label-arrow\">DecisionTree</label><div class=\"sk-toggleable__content\"><pre>DecisionTree(feature_types=[&#x27;categorical&#x27;, &#x27;categorical&#x27;, &#x27;categorical&#x27;,\n",
              "                            &#x27;categorical&#x27;, &#x27;categorical&#x27;, &#x27;categorical&#x27;,\n",
              "                            &#x27;categorical&#x27;, &#x27;categorical&#x27;, &#x27;categorical&#x27;,\n",
              "                            &#x27;categorical&#x27;, &#x27;categorical&#x27;, &#x27;categorical&#x27;,\n",
              "                            &#x27;categorical&#x27;, &#x27;categorical&#x27;, &#x27;categorical&#x27;,\n",
              "                            &#x27;categorical&#x27;, &#x27;categorical&#x27;, &#x27;categorical&#x27;,\n",
              "                            &#x27;categorical&#x27;, &#x27;categorical&#x27;, &#x27;categorical&#x27;,\n",
              "                            &#x27;categorical&#x27;])</pre></div></div></div></div></div>"
            ]
          },
          "metadata": {},
          "execution_count": 242
        }
      ]
    },
    {
      "cell_type": "markdown",
      "metadata": {
        "id": "hCAEfUz2TEZf"
      },
      "source": [
        "__Задание 7. (0.5 балла)__\n",
        "\n",
        "Протестируйте свое решающее дерево на датасете [mushrooms](https://archive.ics.uci.edu/ml/datasets/Mushroom). Вам нужно скачать таблицу agaricus-lepiota.data (из [Data Folder](https://archive.ics.uci.edu/ml/machine-learning-databases/mushroom/)), прочитать ее с помощью pandas, применить к каждому столбцу LabelEncoder (из sklearn), чтобы преобразовать строковые имена категорий в натуральные числа. Первый столбец — это целевая переменная (e — edible, p — poisonous) Мы будем измерять качество с помощью accuracy, так что нам не очень важно, что будет классом 1, а что — классом 0. Обучите решающее дерево на половине случайно выбранных объектов (признаки в датасете категориальные) и сделайте предсказания для оставшейся половины. Вычислите accuracy.\n",
        "\n",
        "У вас должно получиться значение accuracy, равное единице (или очень близкое к единице), и не очень глубокое дерево."
      ]
    },
    {
      "cell_type": "code",
      "execution_count": null,
      "metadata": {
        "id": "vOzzO5SfTEZg"
      },
      "outputs": [],
      "source": [
        "df = pd.read_csv(\"agaricus-lepiota.data\", sep=\",\")"
      ]
    },
    {
      "cell_type": "code",
      "source": [
        "from sklearn.preprocessing import LabelEncoder\n",
        "from sklearn.model_selection import train_test_split\n",
        "\n",
        "df = df.apply(LabelEncoder().fit_transform); df.head()\n",
        "\n",
        "target = df[\"p\"]\n",
        "X = df.drop(\"p\", axis=1)\n",
        "\n",
        "X_train, X_test, y_train, y_test = train_test_split(X, target, test_size=0.5)"
      ],
      "metadata": {
        "id": "Z758B2GOl9nQ"
      },
      "execution_count": null,
      "outputs": []
    },
    {
      "cell_type": "code",
      "source": [
        "feature_types = [\"categorical\"] * X.shape[1]\n",
        "\n",
        "tree = DecisionTree(feature_types)"
      ],
      "metadata": {
        "id": "QKBgUCA4nP_I"
      },
      "execution_count": null,
      "outputs": []
    },
    {
      "cell_type": "code",
      "source": [
        "tree = DecisionTree(feature_types)\n",
        "tree.fit(X_train.to_numpy(), y_train.to_numpy())"
      ],
      "metadata": {
        "id": "DHGiYacRn_wm"
      },
      "execution_count": null,
      "outputs": []
    },
    {
      "cell_type": "code",
      "source": [
        "preds = tree.predict(X_test.to_numpy())"
      ],
      "metadata": {
        "id": "5gm4rXhXoC-1"
      },
      "execution_count": null,
      "outputs": []
    },
    {
      "cell_type": "code",
      "source": [
        "from sklearn.metrics import accuracy_score\n",
        "\n",
        "print(accuracy_score(y_test.to_numpy(), preds))"
      ],
      "metadata": {
        "colab": {
          "base_uri": "https://localhost:8080/"
        },
        "id": "lAcj__9RaWBr",
        "outputId": "88c69a79-ea98-4784-a2af-1a066577625c"
      },
      "execution_count": null,
      "outputs": [
        {
          "output_type": "stream",
          "name": "stdout",
          "text": [
            "1.0\n"
          ]
        }
      ]
    },
    {
      "cell_type": "code",
      "source": [
        "tree._tree # НЕ ГЛУБОКОЕ"
      ],
      "metadata": {
        "colab": {
          "base_uri": "https://localhost:8080/"
        },
        "id": "bca0iIU2aqEv",
        "outputId": "c94a8600-dac2-4472-af68-b43cfb4b2fb3"
      },
      "execution_count": null,
      "outputs": [
        {
          "output_type": "execute_result",
          "data": {
            "text/plain": [
              "{'type': 'nonterminal',\n",
              " 'feature_split': 4,\n",
              " 'categories_split': [0, 3, 5],\n",
              " 'left_child': {'type': 'nonterminal',\n",
              "  'feature_split': 19,\n",
              "  'categories_split': [2, 3, 4, 6, 8, 0, 1, 7],\n",
              "  'left_child': {'type': 'nonterminal',\n",
              "   'feature_split': 14,\n",
              "   'categories_split': [6, 3, 5, 2, 7, 4],\n",
              "   'left_child': {'type': 'nonterminal',\n",
              "    'feature_split': 1,\n",
              "    'categories_split': [2, 0, 3],\n",
              "    'left_child': {'type': 'nonterminal',\n",
              "     'feature_split': 14,\n",
              "     'categories_split': [6, 3, 5, 2, 7],\n",
              "     'left_child': {'type': 'nonterminal',\n",
              "      'feature_split': 0,\n",
              "      'categories_split': [5, 4, 2, 0, 3],\n",
              "      'left_child': {'type': 'nonterminal',\n",
              "       'feature_split': 21,\n",
              "       'categories_split': [1, 0, 3, 4, 6, 5],\n",
              "       'left_child': {'type': 'terminal', 'class': 0},\n",
              "       'right_child': {'type': 'nonterminal',\n",
              "        'feature_split': 1,\n",
              "        'categories_split': [2],\n",
              "        'left_child': {'type': 'terminal', 'class': 0},\n",
              "        'right_child': {'type': 'terminal', 'class': 1}}},\n",
              "      'right_child': {'type': 'terminal', 'class': 1}},\n",
              "     'right_child': {'type': 'nonterminal',\n",
              "      'feature_split': 10,\n",
              "      'categories_split': [1],\n",
              "      'left_child': {'type': 'terminal', 'class': 0},\n",
              "      'right_child': {'type': 'terminal', 'class': 1}}},\n",
              "    'right_child': {'type': 'terminal', 'class': 1}},\n",
              "   'right_child': {'type': 'terminal', 'class': 1}},\n",
              "  'right_child': {'type': 'terminal', 'class': 1}},\n",
              " 'right_child': {'type': 'terminal', 'class': 1}}"
            ]
          },
          "metadata": {},
          "execution_count": 183
        }
      ]
    },
    {
      "cell_type": "markdown",
      "metadata": {
        "id": "RClb2IAyTEZg"
      },
      "source": [
        "__Задание 8. (бонус, 1 балл)__\n",
        "\n",
        "Реализуйте в классе DecisionTree поддержку параметров max_depth, min_samples_split и min_samples_leaf по аналогии с DecisionTreeClassifier. Постройте графики зависимости качества предсказания в зависимости от этих параметров для набора данных tic-tac-toe (см. следующий пункт)."
      ]
    },
    {
      "cell_type": "markdown",
      "metadata": {
        "id": "35i9HYPDTEZg"
      },
      "source": [
        "__Задание 9. (2 балла)__\n",
        "\n",
        "Загрузите следующие наборы данных (напомним, что pandas умеет загружать файлы по url, в нашем случае это файл \\*.data), предварительно ознакомившись с описанием признаков и целевой переменной в каждом из них (она записаны в Data Folder, в файле *.names):\n",
        "* [mushrooms](https://archive.ics.uci.edu/ml/datasets/Mushroom) (загрузили в предыдущем пункте, классы записаны в нулевом столбце),\n",
        "* [tic-tac-toe](https://archive.ics.uci.edu/ml/datasets/Tic-Tac-Toe+Endgame) (классы записаны в последнем столбце)\n",
        "* [cars](https://archive.ics.uci.edu/ml/datasets/Car+Evaluation) (классы записаны в последнем столбце, считаем что unacc, acc — это класс 0, good, vgood — класс 1)\n",
        "* [nursery](https://archive.ics.uci.edu/ml/datasets/Nursery) (классы записаны в последнем столбце, считаем, что not_recom и recommend — класс 0, very_recom, priority, spec_prior — класс 1).\n",
        "\n",
        "Закодируйте категориальные признаки, использовав LabelEncoder. С помощью cross_val_score (cv=10) оцените accuracy на каждом из этих наборов данных следующих алгоритмов:\n",
        "* DecisionTree, считающий все признаки вещественными\n",
        "* DecisionTree, считающий все признаки категориальными\n",
        "* DecisionTree, считающий все признаки вещественными + one-hot-encoding всех признаков\n",
        "* DecisionTreeClassifier из sklearn. Запишите результат в pd.DataFrame (по строкам — наборы данных, по столбцам — алгоритмы).\n",
        "\n",
        "Рекомендации:\n",
        "* Чтобы cross_val_score вычисляла точность, нужно передать scoring=make_scorer(accuracy_score), обе фукнции из sklearn.metrics.\n",
        "* Если вам позволяет память (а она скорее всего позволяет), указывайте параметр sparse=False в OneHotEncoder (если вы, конечно, используете его). Иначе вам придется добиваться того, чтобы ваша реализация дерева умела работать с разреженными матрицами (что тоже, в целом, не очень сложно)."
      ]
    },
    {
      "cell_type": "code",
      "execution_count": null,
      "metadata": {
        "id": "mzHWYQYlTEZg"
      },
      "outputs": [],
      "source": [
        "!pip install ucimlrepo -q"
      ]
    },
    {
      "cell_type": "code",
      "source": [
        "from ucimlrepo import fetch_ucirepo\n",
        "\n",
        "# fetch dataset\n",
        "mushroom = fetch_ucirepo(id=73)\n",
        "# data (as pandas dataframes)\n",
        "X_mushroom = mushroom.data.features\n",
        "y_mushroom = mushroom.data.targets\n",
        "\n",
        "y_mushroom[y_mushroom.isin([\"p\"])] = 1\n",
        "y_mushroom[~y_mushroom.isin([\"p\"])] = 0\n",
        "\n",
        "\n",
        "tictac = pd.read_csv(\"tic-tac-toe.data\", sep=\",\")\n",
        "target_col = \"positive\"\n",
        "X_tictac = tictac.drop(target_col, axis=1)\n",
        "y_tictac = tictac[target_col]\n",
        "\n",
        "y_tictac[y_tictac.isin([\"positive\"])] = 1\n",
        "y_tictac[~y_tictac.isin([\"positive\"])] = 0\n",
        "\n",
        "# fetch dataset\n",
        "car_evaluation = fetch_ucirepo(id=19)\n",
        "# data (as pandas dataframes)\n",
        "X_car = car_evaluation.data.features\n",
        "y_car = car_evaluation.data.targets\n",
        "\n",
        "y_car[y_car.isin([\"good\", \"vgood\"])] = 1\n",
        "y_car[~y_car.isin([\"good\", \"vgood\"])] = 0\n",
        "\n",
        "nursery = pd.read_csv(\"nursery.data\", sep=\",\")\n",
        "target_col = \"recommend\"\n",
        "X_nursery = nursery.drop(target_col, axis=1)\n",
        "y_nursery = nursery[target_col]\n",
        "\n",
        "y_nursery[y_nursery.isin([\"very_recom\", \"priority\", \"spec_prior\"])] = 1\n",
        "y_nursery[~y_nursery.isin([\"very_recom\", \"priority\", \"spec_prior\"])] = 0\n",
        "\n",
        "Xs = [X_mushroom, X_tictac, X_car, X_nursery]\n",
        "ys = [y_mushroom, y_tictac, y_car, y_nursery]"
      ],
      "metadata": {
        "id": "nyvqqQNZr1x4"
      },
      "execution_count": null,
      "outputs": []
    },
    {
      "cell_type": "code",
      "source": [
        "Xs = [x.apply(LabelEncoder().fit_transform) for x in Xs]"
      ],
      "metadata": {
        "id": "YwpHM6TJ4ID1"
      },
      "execution_count": null,
      "outputs": []
    },
    {
      "cell_type": "code",
      "source": [
        "ys = [np.nan_to_num(y) for y in ys]\n",
        "\n",
        "for y in ys:\n",
        "    print(y[~np.isin(y, [0,1])])"
      ],
      "metadata": {
        "colab": {
          "base_uri": "https://localhost:8080/"
        },
        "id": "W0D3aFXJ4dDA",
        "outputId": "3112e8b0-1887-47d1-c215-7c43304352d6"
      },
      "execution_count": null,
      "outputs": [
        {
          "output_type": "stream",
          "name": "stdout",
          "text": [
            "[]\n",
            "[]\n",
            "[]\n",
            "[]\n"
          ]
        }
      ]
    },
    {
      "cell_type": "code",
      "source": [
        "from sklearn.utils.estimator_checks import check_estimator\n",
        "\n",
        "check_estimator(DecisionTree([\"real\"] * 10))"
      ],
      "metadata": {
        "id": "KSK5n7h901u_"
      },
      "execution_count": null,
      "outputs": []
    },
    {
      "cell_type": "code",
      "source": [
        "from sklearn.preprocessing import OneHotEncoder\n",
        "from sklearn.tree import DecisionTreeClassifier as DTC\n",
        "\n",
        "def build_tree_real(X):\n",
        "    feature_types = [\"real\"] * X.shape[1]\n",
        "    return DecisionTree(feature_types), None\n",
        "\n",
        "def build_tree_cat(X):\n",
        "    feature_types = [\"categorical\"] * X.shape[1]\n",
        "    return DecisionTree(feature_types), None\n",
        "\n",
        "def build_tree_ohe(X):\n",
        "    feature_types = [\"real\"] * X.shape[1]\n",
        "    enc = OneHotEncoder(handle_unknown='ignore')\n",
        "    return DecisionTree(feature_types), enc.fit_transform(X)\n",
        "\n",
        "def build_tree_og(X):\n",
        "    return DTC(), None"
      ],
      "metadata": {
        "id": "bgzCRq2kwkx9"
      },
      "execution_count": null,
      "outputs": []
    },
    {
      "cell_type": "code",
      "source": [
        "from sklearn.model_selection import cross_val_score\n",
        "from sklearn.metrics import make_scorer\n",
        "\n",
        "functions = [build_tree_real,build_tree_cat,build_tree_ohe,build_tree_og]\n",
        "datasets = [\"mushroom\",\"tictac\",\"car_evaluation\",\"nursery\"]\n",
        "results = pd.DataFrame(columns = [alg.__name__ for alg in functions])\n",
        "CV = 10\n",
        "\n",
        "for (X, y, dataset) in zip(Xs, ys, datasets):\n",
        "    X = X.to_numpy()\n",
        "    if not isinstance(y, np.ndarray):\n",
        "        y = y.to_numpy()\n",
        "    X = X.astype(\"int\")\n",
        "    y = y.astype(\"int\")\n",
        "\n",
        "    algos = {}\n",
        "    for algorithm in functions:\n",
        "        tree, X_trans = algorithm(X)\n",
        "        if X_trans is not None:\n",
        "            X = X_trans\n",
        "        print(X.shape, y.shape)\n",
        "        scores = cross_val_score(tree, X, y, cv=CV, scoring=make_scorer(accuracy_score))\n",
        "        algos[algorithm.__name__] = [np.mean(scores)]\n",
        "    # results.iloc[dataset] = algos\n",
        "    df = pd.DataFrame(algos)\n",
        "    results = pd.concat([results, df], ignore_index=True)\n",
        "\n",
        "results.index = datasets\n",
        "print(\"Accuracy: \")\n",
        "results"
      ],
      "metadata": {
        "colab": {
          "base_uri": "https://localhost:8080/",
          "height": 469
        },
        "id": "lyb3LQxEtT5x",
        "outputId": "e604d759-f3f5-4723-f5de-fa9498cbfad1"
      },
      "execution_count": null,
      "outputs": [
        {
          "output_type": "stream",
          "name": "stdout",
          "text": [
            "(8124, 22) (8124, 1)\n",
            "(8124, 22) (8124, 1)\n",
            "(8124, 117) (8124, 1)\n",
            "(8124, 117) (8124, 1)\n",
            "(957, 9) (957,)\n",
            "(957, 9) (957,)\n",
            "(957, 27) (957,)\n",
            "(957, 27) (957,)\n",
            "(1728, 6) (1728, 1)\n",
            "(1728, 6) (1728, 1)\n",
            "(1728, 21) (1728, 1)\n",
            "(1728, 21) (1728, 1)\n",
            "(12959, 8) (12959,)\n",
            "(12959, 8) (12959,)\n",
            "(12959, 27) (12959,)\n",
            "(12959, 27) (12959,)\n",
            "Accuracy: \n"
          ]
        },
        {
          "output_type": "execute_result",
          "data": {
            "text/plain": [
              "                build_tree_real  build_tree_cat  build_tree_ohe  build_tree_og\n",
              "mushroom                    1.0             1.0             1.0            1.0\n",
              "tictac                      1.0             1.0             1.0            1.0\n",
              "car_evaluation              1.0             1.0             1.0            1.0\n",
              "nursery                     1.0             1.0             1.0            1.0"
            ],
            "text/html": [
              "\n",
              "  <div id=\"df-600afd03-08bd-4e06-ab91-b6f1af3ea449\" class=\"colab-df-container\">\n",
              "    <div>\n",
              "<style scoped>\n",
              "    .dataframe tbody tr th:only-of-type {\n",
              "        vertical-align: middle;\n",
              "    }\n",
              "\n",
              "    .dataframe tbody tr th {\n",
              "        vertical-align: top;\n",
              "    }\n",
              "\n",
              "    .dataframe thead th {\n",
              "        text-align: right;\n",
              "    }\n",
              "</style>\n",
              "<table border=\"1\" class=\"dataframe\">\n",
              "  <thead>\n",
              "    <tr style=\"text-align: right;\">\n",
              "      <th></th>\n",
              "      <th>build_tree_real</th>\n",
              "      <th>build_tree_cat</th>\n",
              "      <th>build_tree_ohe</th>\n",
              "      <th>build_tree_og</th>\n",
              "    </tr>\n",
              "  </thead>\n",
              "  <tbody>\n",
              "    <tr>\n",
              "      <th>mushroom</th>\n",
              "      <td>1.0</td>\n",
              "      <td>1.0</td>\n",
              "      <td>1.0</td>\n",
              "      <td>1.0</td>\n",
              "    </tr>\n",
              "    <tr>\n",
              "      <th>tictac</th>\n",
              "      <td>1.0</td>\n",
              "      <td>1.0</td>\n",
              "      <td>1.0</td>\n",
              "      <td>1.0</td>\n",
              "    </tr>\n",
              "    <tr>\n",
              "      <th>car_evaluation</th>\n",
              "      <td>1.0</td>\n",
              "      <td>1.0</td>\n",
              "      <td>1.0</td>\n",
              "      <td>1.0</td>\n",
              "    </tr>\n",
              "    <tr>\n",
              "      <th>nursery</th>\n",
              "      <td>1.0</td>\n",
              "      <td>1.0</td>\n",
              "      <td>1.0</td>\n",
              "      <td>1.0</td>\n",
              "    </tr>\n",
              "  </tbody>\n",
              "</table>\n",
              "</div>\n",
              "    <div class=\"colab-df-buttons\">\n",
              "\n",
              "  <div class=\"colab-df-container\">\n",
              "    <button class=\"colab-df-convert\" onclick=\"convertToInteractive('df-600afd03-08bd-4e06-ab91-b6f1af3ea449')\"\n",
              "            title=\"Convert this dataframe to an interactive table.\"\n",
              "            style=\"display:none;\">\n",
              "\n",
              "  <svg xmlns=\"http://www.w3.org/2000/svg\" height=\"24px\" viewBox=\"0 -960 960 960\">\n",
              "    <path d=\"M120-120v-720h720v720H120Zm60-500h600v-160H180v160Zm220 220h160v-160H400v160Zm0 220h160v-160H400v160ZM180-400h160v-160H180v160Zm440 0h160v-160H620v160ZM180-180h160v-160H180v160Zm440 0h160v-160H620v160Z\"/>\n",
              "  </svg>\n",
              "    </button>\n",
              "\n",
              "  <style>\n",
              "    .colab-df-container {\n",
              "      display:flex;\n",
              "      gap: 12px;\n",
              "    }\n",
              "\n",
              "    .colab-df-convert {\n",
              "      background-color: #E8F0FE;\n",
              "      border: none;\n",
              "      border-radius: 50%;\n",
              "      cursor: pointer;\n",
              "      display: none;\n",
              "      fill: #1967D2;\n",
              "      height: 32px;\n",
              "      padding: 0 0 0 0;\n",
              "      width: 32px;\n",
              "    }\n",
              "\n",
              "    .colab-df-convert:hover {\n",
              "      background-color: #E2EBFA;\n",
              "      box-shadow: 0px 1px 2px rgba(60, 64, 67, 0.3), 0px 1px 3px 1px rgba(60, 64, 67, 0.15);\n",
              "      fill: #174EA6;\n",
              "    }\n",
              "\n",
              "    .colab-df-buttons div {\n",
              "      margin-bottom: 4px;\n",
              "    }\n",
              "\n",
              "    [theme=dark] .colab-df-convert {\n",
              "      background-color: #3B4455;\n",
              "      fill: #D2E3FC;\n",
              "    }\n",
              "\n",
              "    [theme=dark] .colab-df-convert:hover {\n",
              "      background-color: #434B5C;\n",
              "      box-shadow: 0px 1px 3px 1px rgba(0, 0, 0, 0.15);\n",
              "      filter: drop-shadow(0px 1px 2px rgba(0, 0, 0, 0.3));\n",
              "      fill: #FFFFFF;\n",
              "    }\n",
              "  </style>\n",
              "\n",
              "    <script>\n",
              "      const buttonEl =\n",
              "        document.querySelector('#df-600afd03-08bd-4e06-ab91-b6f1af3ea449 button.colab-df-convert');\n",
              "      buttonEl.style.display =\n",
              "        google.colab.kernel.accessAllowed ? 'block' : 'none';\n",
              "\n",
              "      async function convertToInteractive(key) {\n",
              "        const element = document.querySelector('#df-600afd03-08bd-4e06-ab91-b6f1af3ea449');\n",
              "        const dataTable =\n",
              "          await google.colab.kernel.invokeFunction('convertToInteractive',\n",
              "                                                    [key], {});\n",
              "        if (!dataTable) return;\n",
              "\n",
              "        const docLinkHtml = 'Like what you see? Visit the ' +\n",
              "          '<a target=\"_blank\" href=https://colab.research.google.com/notebooks/data_table.ipynb>data table notebook</a>'\n",
              "          + ' to learn more about interactive tables.';\n",
              "        element.innerHTML = '';\n",
              "        dataTable['output_type'] = 'display_data';\n",
              "        await google.colab.output.renderOutput(dataTable, element);\n",
              "        const docLink = document.createElement('div');\n",
              "        docLink.innerHTML = docLinkHtml;\n",
              "        element.appendChild(docLink);\n",
              "      }\n",
              "    </script>\n",
              "  </div>\n",
              "\n",
              "\n",
              "<div id=\"df-783fb2c3-3687-48bf-877e-ccb780fe47c0\">\n",
              "  <button class=\"colab-df-quickchart\" onclick=\"quickchart('df-783fb2c3-3687-48bf-877e-ccb780fe47c0')\"\n",
              "            title=\"Suggest charts\"\n",
              "            style=\"display:none;\">\n",
              "\n",
              "<svg xmlns=\"http://www.w3.org/2000/svg\" height=\"24px\"viewBox=\"0 0 24 24\"\n",
              "     width=\"24px\">\n",
              "    <g>\n",
              "        <path d=\"M19 3H5c-1.1 0-2 .9-2 2v14c0 1.1.9 2 2 2h14c1.1 0 2-.9 2-2V5c0-1.1-.9-2-2-2zM9 17H7v-7h2v7zm4 0h-2V7h2v10zm4 0h-2v-4h2v4z\"/>\n",
              "    </g>\n",
              "</svg>\n",
              "  </button>\n",
              "\n",
              "<style>\n",
              "  .colab-df-quickchart {\n",
              "      --bg-color: #E8F0FE;\n",
              "      --fill-color: #1967D2;\n",
              "      --hover-bg-color: #E2EBFA;\n",
              "      --hover-fill-color: #174EA6;\n",
              "      --disabled-fill-color: #AAA;\n",
              "      --disabled-bg-color: #DDD;\n",
              "  }\n",
              "\n",
              "  [theme=dark] .colab-df-quickchart {\n",
              "      --bg-color: #3B4455;\n",
              "      --fill-color: #D2E3FC;\n",
              "      --hover-bg-color: #434B5C;\n",
              "      --hover-fill-color: #FFFFFF;\n",
              "      --disabled-bg-color: #3B4455;\n",
              "      --disabled-fill-color: #666;\n",
              "  }\n",
              "\n",
              "  .colab-df-quickchart {\n",
              "    background-color: var(--bg-color);\n",
              "    border: none;\n",
              "    border-radius: 50%;\n",
              "    cursor: pointer;\n",
              "    display: none;\n",
              "    fill: var(--fill-color);\n",
              "    height: 32px;\n",
              "    padding: 0;\n",
              "    width: 32px;\n",
              "  }\n",
              "\n",
              "  .colab-df-quickchart:hover {\n",
              "    background-color: var(--hover-bg-color);\n",
              "    box-shadow: 0 1px 2px rgba(60, 64, 67, 0.3), 0 1px 3px 1px rgba(60, 64, 67, 0.15);\n",
              "    fill: var(--button-hover-fill-color);\n",
              "  }\n",
              "\n",
              "  .colab-df-quickchart-complete:disabled,\n",
              "  .colab-df-quickchart-complete:disabled:hover {\n",
              "    background-color: var(--disabled-bg-color);\n",
              "    fill: var(--disabled-fill-color);\n",
              "    box-shadow: none;\n",
              "  }\n",
              "\n",
              "  .colab-df-spinner {\n",
              "    border: 2px solid var(--fill-color);\n",
              "    border-color: transparent;\n",
              "    border-bottom-color: var(--fill-color);\n",
              "    animation:\n",
              "      spin 1s steps(1) infinite;\n",
              "  }\n",
              "\n",
              "  @keyframes spin {\n",
              "    0% {\n",
              "      border-color: transparent;\n",
              "      border-bottom-color: var(--fill-color);\n",
              "      border-left-color: var(--fill-color);\n",
              "    }\n",
              "    20% {\n",
              "      border-color: transparent;\n",
              "      border-left-color: var(--fill-color);\n",
              "      border-top-color: var(--fill-color);\n",
              "    }\n",
              "    30% {\n",
              "      border-color: transparent;\n",
              "      border-left-color: var(--fill-color);\n",
              "      border-top-color: var(--fill-color);\n",
              "      border-right-color: var(--fill-color);\n",
              "    }\n",
              "    40% {\n",
              "      border-color: transparent;\n",
              "      border-right-color: var(--fill-color);\n",
              "      border-top-color: var(--fill-color);\n",
              "    }\n",
              "    60% {\n",
              "      border-color: transparent;\n",
              "      border-right-color: var(--fill-color);\n",
              "    }\n",
              "    80% {\n",
              "      border-color: transparent;\n",
              "      border-right-color: var(--fill-color);\n",
              "      border-bottom-color: var(--fill-color);\n",
              "    }\n",
              "    90% {\n",
              "      border-color: transparent;\n",
              "      border-bottom-color: var(--fill-color);\n",
              "    }\n",
              "  }\n",
              "</style>\n",
              "\n",
              "  <script>\n",
              "    async function quickchart(key) {\n",
              "      const quickchartButtonEl =\n",
              "        document.querySelector('#' + key + ' button');\n",
              "      quickchartButtonEl.disabled = true;  // To prevent multiple clicks.\n",
              "      quickchartButtonEl.classList.add('colab-df-spinner');\n",
              "      try {\n",
              "        const charts = await google.colab.kernel.invokeFunction(\n",
              "            'suggestCharts', [key], {});\n",
              "      } catch (error) {\n",
              "        console.error('Error during call to suggestCharts:', error);\n",
              "      }\n",
              "      quickchartButtonEl.classList.remove('colab-df-spinner');\n",
              "      quickchartButtonEl.classList.add('colab-df-quickchart-complete');\n",
              "    }\n",
              "    (() => {\n",
              "      let quickchartButtonEl =\n",
              "        document.querySelector('#df-783fb2c3-3687-48bf-877e-ccb780fe47c0 button');\n",
              "      quickchartButtonEl.style.display =\n",
              "        google.colab.kernel.accessAllowed ? 'block' : 'none';\n",
              "    })();\n",
              "  </script>\n",
              "</div>\n",
              "    </div>\n",
              "  </div>\n"
            ]
          },
          "metadata": {},
          "execution_count": 301
        }
      ]
    },
    {
      "cell_type": "code",
      "source": [],
      "metadata": {
        "id": "HhVcp8Aj9zg8"
      },
      "execution_count": null,
      "outputs": []
    },
    {
      "cell_type": "code",
      "source": [],
      "metadata": {
        "id": "PMzEbIdm9rY9"
      },
      "execution_count": null,
      "outputs": []
    },
    {
      "cell_type": "markdown",
      "metadata": {
        "id": "kyHrtXW0TEZh"
      },
      "source": [
        "__Задание 10. (1 балла)__\n",
        "\n",
        "Проанализируйте результаты эксперимента.\n",
        "Одинаково ли для разных наборов данных ранжируются алгоритмы?\n",
        "Порассуждайте, почему так происходит.\n",
        "\n",
        "Обратите внимание на значение признаков в разных наборах данных.\n",
        "Присутствует ли в результатах какая-то компонента случайности?\n",
        "Можно ли повлиять на нее и улушить работу алгоритмов?"
      ]
    },
    {
      "cell_type": "markdown",
      "metadata": {
        "id": "_H9e_xANTEZh"
      },
      "source": [
        "**Ответ:**"
      ]
    },
    {
      "cell_type": "markdown",
      "metadata": {
        "id": "EsGY78W5TEZh"
      },
      "source": [
        "Вставьте что угодно, описывающее ваши впечатления от этого задания:"
      ]
    },
    {
      "cell_type": "code",
      "execution_count": null,
      "metadata": {
        "id": "G__5d2pkTEZh"
      },
      "outputs": [],
      "source": []
    }
  ],
  "metadata": {
    "colab": {
      "provenance": []
    },
    "kernelspec": {
      "display_name": "Python 3",
      "language": "python",
      "name": "python3"
    },
    "language_info": {
      "codemirror_mode": {
        "name": "ipython",
        "version": 3
      },
      "file_extension": ".py",
      "mimetype": "text/x-python",
      "name": "python",
      "nbconvert_exporter": "python",
      "pygments_lexer": "ipython3",
      "version": "3.8.5"
    }
  },
  "nbformat": 4,
  "nbformat_minor": 0
}