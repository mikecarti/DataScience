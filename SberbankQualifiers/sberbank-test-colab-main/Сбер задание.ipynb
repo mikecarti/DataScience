{
 "cells": [
  {
   "cell_type": "code",
   "execution_count": 1,
   "id": "ea615b27",
   "metadata": {},
   "outputs": [],
   "source": [
    "# Задание 1, обратная матрица.\n",
    "# Обратную матрицу можно найти по формуле А^-1 = A*^T * 1/|A|\n",
    "# Выходит нам понадобятся функции transponate(), determinator() и inverse() для решения задачи. \n",
    "# (A*^T - транспонированная матрица алг. дополнений)\n",
    "\n",
    "# Засчет рекурсивной функции det(), данный код может считать обратные матрицы NxN размера (N>1)"
   ]
  },
  {
   "cell_type": "code",
   "execution_count": 2,
   "id": "96d1fe03",
   "metadata": {},
   "outputs": [],
   "source": [
    "import copy"
   ]
  },
  {
   "cell_type": "code",
   "execution_count": 3,
   "id": "cc0b1285",
   "metadata": {},
   "outputs": [
    {
     "name": "stdout",
     "output_type": "stream",
     "text": [
      "4\n",
      "4\n",
      "1\n",
      "5\n",
      "8\n",
      "6\n",
      "3\n",
      "2\n",
      "1\n",
      "4\n",
      "5\n",
      "6\n",
      "3\n",
      "2\n",
      "8\n",
      "7\n",
      "6\n",
      "3\n"
     ]
    },
    {
     "data": {
      "text/plain": [
       "[[1, 5, 8, 6], [3, 2, 1, 4], [5, 6, 3, 2], [8, 7, 6, 3]]"
      ]
     },
     "execution_count": 3,
     "metadata": {},
     "output_type": "execute_result"
    }
   ],
   "source": [
    "cols = 0\n",
    "rows = 1\n",
    "\n",
    "while rows != cols:\n",
    "    rows = int(input())\n",
    "    cols = int(input())\n",
    "    \n",
    "    if (rows != cols):\n",
    "        print(\"Only square matrices may produce an inverse one, please insert equal numbers\")\n",
    "\n",
    "\n",
    "matrix = []\n",
    "\n",
    "for i in range(rows):\n",
    "    matrix.append([])\n",
    "    for j in range(cols):\n",
    "        matrix[i].append(int(input()))\n",
    "        \n",
    "matrix"
   ]
  },
  {
   "cell_type": "code",
   "execution_count": 4,
   "id": "b5747f5e",
   "metadata": {},
   "outputs": [],
   "source": [
    "def transponate(matrix: list, rows: int, cols: int) -> list:\n",
    "    for i in range(rows):\n",
    "        for j in range(cols):\n",
    "            if j > i:\n",
    "                matrix[i][j] , matrix[j][i] = matrix[j][i] , matrix[i][j]\n",
    "    return matrix"
   ]
  },
  {
   "cell_type": "code",
   "execution_count": 5,
   "id": "c26ff6cb",
   "metadata": {},
   "outputs": [],
   "source": [
    "def det(mx: list, rows: int, cols: int) -> float:\n",
    "    if (len(mx) == 1 and len(mx[0]) == 1):\n",
    "        return mx[0][0]\n",
    "    else:\n",
    "        d = 0\n",
    "        for i in range(rows):\n",
    "            minor = [[] for x in range(rows - 1)]\n",
    "            index = 0\n",
    "            \n",
    "            for k in range(rows):\n",
    "                if k != 0:\n",
    "                    for n in range(cols):\n",
    "                        if n != i:\n",
    "                            if len(minor[index]) == rows - 1:\n",
    "                                index += 1\n",
    "                            minor[index].append(mx[k][n])\n",
    "                            \n",
    "            d += pow(-1, i) * mx[0][i] * det(minor, len(minor), len(minor[0]))\n",
    "        return d"
   ]
  },
  {
   "cell_type": "code",
   "execution_count": 6,
   "id": "b19e7d57",
   "metadata": {},
   "outputs": [],
   "source": [
    "def mul(matrix: list, scalar: float) -> list:\n",
    "    rows = len(matrix)\n",
    "    cols = len(matrix[0])\n",
    "    \n",
    "    for i in range(rows):\n",
    "        for j in range(cols):\n",
    "            matrix[i][j] = matrix[i][j] * scalar\n",
    "    \n",
    "    return matrix\n",
    "    "
   ]
  },
  {
   "cell_type": "code",
   "execution_count": 7,
   "id": "4342717c",
   "metadata": {},
   "outputs": [],
   "source": [
    "def minors(matrix: list, rows: int, cols: int) -> list:\n",
    "    minor_mx = [[0 for i in matrix[0]] for j in matrix]\n",
    "    \n",
    "    for i in range(rows):\n",
    "        for j in range(cols):\n",
    "            minor = [[] for x in range(rows - 1)]\n",
    "            index = 0\n",
    "            \n",
    "            for k in range(rows):\n",
    "                if k != i:\n",
    "                    for n in range(cols):\n",
    "                        if n != j:\n",
    "                            if len(minor[index]) == rows - 1:\n",
    "                                index += 1\n",
    "                            minor[index].append(matrix[k][n])\n",
    "            minor_mx[i][j] = pow(-1, i+j) * det(minor, len(minor), len(minor[0]))  \n",
    "\n",
    "    return minor_mx"
   ]
  },
  {
   "cell_type": "code",
   "execution_count": 8,
   "id": "456b0b3b",
   "metadata": {},
   "outputs": [
    {
     "data": {
      "text/plain": [
       "[[1, 5, 8, 6], [3, 2, 1, 4], [5, 6, 3, 2], [8, 7, 6, 3]]"
      ]
     },
     "execution_count": 8,
     "metadata": {},
     "output_type": "execute_result"
    }
   ],
   "source": [
    "matrix"
   ]
  },
  {
   "cell_type": "code",
   "execution_count": 9,
   "id": "716da8e1",
   "metadata": {},
   "outputs": [
    {
     "data": {
      "text/plain": [
       "[[50, -16, -38, -20],\n",
       " [-43, 41, 69, -119],\n",
       " [101, -223, 123, 5],\n",
       " [-110, 126, -98, 44]]"
      ]
     },
     "execution_count": 9,
     "metadata": {},
     "output_type": "execute_result"
    }
   ],
   "source": [
    "minor_matrix = minors(matrix, rows, cols)\n",
    "minor_matrix"
   ]
  },
  {
   "cell_type": "code",
   "execution_count": 10,
   "id": "d391d013",
   "metadata": {},
   "outputs": [
    {
     "data": {
      "text/plain": [
       "[[50, -43, 101, -110],\n",
       " [-16, 41, -223, 126],\n",
       " [-38, 69, 123, -98],\n",
       " [-20, -119, 5, 44]]"
      ]
     },
     "execution_count": 10,
     "metadata": {},
     "output_type": "execute_result"
    }
   ],
   "source": [
    "trans = transponate(minor_matrix, rows, cols)\n",
    "trans"
   ]
  },
  {
   "cell_type": "code",
   "execution_count": 11,
   "id": "15b594ea",
   "metadata": {},
   "outputs": [
    {
     "data": {
      "text/plain": [
       "-454"
      ]
     },
     "execution_count": 11,
     "metadata": {},
     "output_type": "execute_result"
    }
   ],
   "source": [
    "d = det(matrix, rows, cols)\n",
    "d"
   ]
  },
  {
   "cell_type": "code",
   "execution_count": 12,
   "id": "11bc0b8e",
   "metadata": {},
   "outputs": [
    {
     "name": "stdout",
     "output_type": "stream",
     "text": [
      "[-0.11, 0.095, -0.222, 0.242]\n",
      "[0.035, -0.09, 0.491, -0.278]\n",
      "[0.084, -0.152, -0.271, 0.216]\n",
      "[0.044, 0.262, -0.011, -0.097]\n"
     ]
    }
   ],
   "source": [
    "if d == 0:\n",
    "    print(\"Matrix has no inverse matrix\")\n",
    "else:\n",
    "    inverse = mul(trans, 1/d)\n",
    "    for i in range(len(inverse)):\n",
    "        print([round(n,3) for n in inverse[i]])\n",
    "    "
   ]
  },
  {
   "cell_type": "code",
   "execution_count": 13,
   "id": "4c0f373d",
   "metadata": {},
   "outputs": [],
   "source": [
    "# Задание 2. Очередь\n",
    "# Сделаем класс Container, который сможет хранить данные и референс на следующее значение."
   ]
  },
  {
   "cell_type": "code",
   "execution_count": 14,
   "id": "34cb3a93",
   "metadata": {},
   "outputs": [],
   "source": [
    "class Container:\n",
    "    def __init__(self, data, next_val):\n",
    "        self.data = data\n",
    "        self.next_val = next_val"
   ]
  },
  {
   "cell_type": "code",
   "execution_count": 15,
   "id": "19bd4576",
   "metadata": {},
   "outputs": [],
   "source": [
    "class StringDeque:\n",
    "    def __init__(self):\n",
    "        self.tail = Container(None, None)\n",
    "        self.head = Container(None, self.tail)\n",
    "        self.last_elem = self.head\n",
    "        self.len = 0\n",
    "        \n",
    "        \n",
    "    def push_back(self, elem):\n",
    "        new_elem = Container(elem, self.tail)\n",
    "        self.last_elem.next_val = new_elem\n",
    "        self.last_elem = new_elem\n",
    "        self.len += 1\n",
    "        \n",
    "    def pop_front(self):\n",
    "        if self.len == 0:\n",
    "            print(\"Deque already is empty\")\n",
    "            return\n",
    "        \n",
    "        popped = self.head.next_val\n",
    "        next_elem = popped.next_val\n",
    "        self.head.next_val = next_elem\n",
    "        self.len -= 1\n",
    "        \n",
    "        return popped.data\n",
    "        \n",
    "    def print(self):\n",
    "        cur_elem = self.head.next_val\n",
    "        while(cur_elem.next_val != None):\n",
    "            print(cur_elem.data, end=' ')\n",
    "            cur_elem = cur_elem.next_val\n",
    "        print('\\n')\n",
    "        \n",
    "    def check(self, deq_a, deq_b):\n",
    "        if deq_a.len == 0 or deq_b.len == 0:\n",
    "            if deq_a.len > deq_b.len:\n",
    "                return 'greater'\n",
    "            elif deq_a.len == deq_b.len:\n",
    "                return 'equal'\n",
    "            else: \n",
    "                return 'lesser'\n",
    "        elif deq_a.len != deq_b.len:\n",
    "            return 'good'\n",
    "        else:\n",
    "            char_a = deq_a.head.next_val.data\n",
    "            char_b = deq_b.head.next_val.data\n",
    "\n",
    "            if char_a < char_b:\n",
    "                return 'greater'\n",
    "            elif char_a == char_b:\n",
    "                return 'equal'\n",
    "            elif char_a > char_b:\n",
    "                return 'lesser'\n",
    "            else:\n",
    "                raise SystemExit('char_a is not comparable to char_b')    \n",
    "        \n",
    "    def __lt__(self, other):\n",
    "        code = self.check(self, other)\n",
    "        \n",
    "        if code == 'good':\n",
    "            return self.len < other.len\n",
    "        elif code == 'lesser':\n",
    "            return True\n",
    "        else:\n",
    "            return False\n",
    "\n",
    "    def __gt__(self, other):\n",
    "        code = self.check(self, other)\n",
    "        \n",
    "        if code == 'good':\n",
    "            return self.len > other.len\n",
    "        elif code == 'greater':\n",
    "            return True\n",
    "        else:\n",
    "            return False\n",
    "        \n",
    "    def __eq__(self, other):\n",
    "        code = self.check(self, other)\n",
    "        \n",
    "        if code == 'good':\n",
    "            return self.len == other.len\n",
    "        elif code == 'equal':\n",
    "            return True\n",
    "        else:\n",
    "            return False\n",
    "        \n",
    "        "
   ]
  },
  {
   "cell_type": "code",
   "execution_count": 16,
   "id": "3c307a4f",
   "metadata": {},
   "outputs": [],
   "source": [
    "def parse_deques(deq_a: StringDeque, deq_b: StringDeque):\n",
    "    while deq_a.len > 0 or deq_b.len > 0:\n",
    "        if (deq_a < deq_b):\n",
    "            print(deq_b.pop_front())\n",
    "        else:\n",
    "            print(deq_a.pop_front())\n",
    "            \n",
    "    "
   ]
  },
  {
   "cell_type": "code",
   "execution_count": 17,
   "id": "ecec0f15",
   "metadata": {},
   "outputs": [],
   "source": [
    "deque1 = StringDeque()"
   ]
  },
  {
   "cell_type": "code",
   "execution_count": 18,
   "id": "e3cff75e",
   "metadata": {},
   "outputs": [
    {
     "name": "stdout",
     "output_type": "stream",
     "text": [
      "A B B \n",
      "\n",
      "B B \n",
      "\n"
     ]
    }
   ],
   "source": [
    "deque1.push_back('A')\n",
    "deque1.push_back('B')\n",
    "deque1.push_back('B')\n",
    "\n",
    "deque1.print()\n",
    "\n",
    "deque1.pop_front()\n",
    "\n",
    "deque1.print()"
   ]
  },
  {
   "cell_type": "code",
   "execution_count": 19,
   "id": "437602a8",
   "metadata": {},
   "outputs": [
    {
     "name": "stdout",
     "output_type": "stream",
     "text": [
      "A B \n",
      "\n",
      "False\n",
      "False\n",
      "True\n"
     ]
    }
   ],
   "source": [
    "deque2 = StringDeque()\n",
    "\n",
    "deque2.push_back('A')\n",
    "deque2.push_back('B')\n",
    "\n",
    "deque2.print()\n",
    "\n",
    "print(deque1 > deque2)\n",
    "print(deque1 == deque2)\n",
    "print(deque1 < deque2)"
   ]
  },
  {
   "cell_type": "code",
   "execution_count": 20,
   "id": "aee64876",
   "metadata": {},
   "outputs": [
    {
     "name": "stdout",
     "output_type": "stream",
     "text": [
      "B B \n",
      "\n",
      "A B \n",
      "\n",
      "A\n",
      "B\n",
      "B\n",
      "B\n"
     ]
    }
   ],
   "source": [
    "deque1.print()\n",
    "deque2.print()\n",
    "\n",
    "parse_deques(deque1, deque2)"
   ]
  },
  {
   "cell_type": "code",
   "execution_count": 21,
   "id": "a51cbd0d",
   "metadata": {},
   "outputs": [],
   "source": [
    "# Задание 3\n",
    "\n",
    "# Идея: сделать систему рекомендации, которая не станет предлогать отсутствующие или уже взятые товары. \n",
    "# (По крайней мере пока есть подходящие товары в edges или freqs)\n",
    "# Подобное решение исключит лишние предложения. Я буду сначала выдавать все товары(в порядке убывания по score),\n",
    "# рекомендация для которых не нулевая, а после, если осталось свободное место в списке предложений,\n",
    "# заполнять сводобное место ранжированным по популярности списком товаров из датафрейма 'freqs'"
   ]
  },
  {
   "cell_type": "code",
   "execution_count": 22,
   "id": "b8cdb35b",
   "metadata": {},
   "outputs": [],
   "source": [
    "import random\n",
    "import pandas as pd"
   ]
  },
  {
   "cell_type": "code",
   "execution_count": 23,
   "id": "3e6cfd2d",
   "metadata": {},
   "outputs": [],
   "source": [
    "def get_absent():\n",
    "\n",
    "    cnt = random.randint(1,4)\n",
    "    absent = random.sample(list(freqs['id']), cnt)  \n",
    "    return absent\n",
    "\n",
    "def get_basket():\n",
    "    cnt = random.randint(1,5)\n",
    "    basket = random.sample(list(freqs['id']), cnt)\n",
    "    return basket\n",
    "\n",
    "freqs = [\n",
    "[1, 1234],\n",
    "[2, 1505],\n",
    "[3, 900],\n",
    "[4, 2345],\n",
    "[5, 378],\n",
    "[6, 2998],\n",
    "[7, 5421],\n",
    "[8, 1323],\n",
    "[9, 708],\n",
    "[10, 1283]\n",
    "]\n",
    "\n",
    "edges=[\n",
    "[1,2,300],\n",
    "[1,4,150],\n",
    "[1,7,220],\n",
    "[2,1,100],\n",
    "[2,5,520],\n",
    "[2,10,110],\n",
    "[3,4,340],\n",
    "[4,1,150],\n",
    "[4,3,340],\n",
    "[5,2,520],\n",
    "[7,1,220],\n",
    "[9,10,230],\n",
    "[10,2,110],\n",
    "[10,9,230]\n",
    "]\n",
    "\n",
    "freqs = pd.DataFrame.from_records(freqs, columns=['id', 'frequency'])\n",
    "edges = pd.DataFrame.from_records(edges, columns=['a_id', 'b_id', 'score'])"
   ]
  },
  {
   "cell_type": "code",
   "execution_count": 24,
   "id": "f2e24756",
   "metadata": {},
   "outputs": [
    {
     "data": {
      "text/html": [
       "<div>\n",
       "<style scoped>\n",
       "    .dataframe tbody tr th:only-of-type {\n",
       "        vertical-align: middle;\n",
       "    }\n",
       "\n",
       "    .dataframe tbody tr th {\n",
       "        vertical-align: top;\n",
       "    }\n",
       "\n",
       "    .dataframe thead th {\n",
       "        text-align: right;\n",
       "    }\n",
       "</style>\n",
       "<table border=\"1\" class=\"dataframe\">\n",
       "  <thead>\n",
       "    <tr style=\"text-align: right;\">\n",
       "      <th></th>\n",
       "      <th>id</th>\n",
       "      <th>frequency</th>\n",
       "    </tr>\n",
       "  </thead>\n",
       "  <tbody>\n",
       "    <tr>\n",
       "      <th>6</th>\n",
       "      <td>7</td>\n",
       "      <td>5421</td>\n",
       "    </tr>\n",
       "    <tr>\n",
       "      <th>5</th>\n",
       "      <td>6</td>\n",
       "      <td>2998</td>\n",
       "    </tr>\n",
       "    <tr>\n",
       "      <th>3</th>\n",
       "      <td>4</td>\n",
       "      <td>2345</td>\n",
       "    </tr>\n",
       "    <tr>\n",
       "      <th>1</th>\n",
       "      <td>2</td>\n",
       "      <td>1505</td>\n",
       "    </tr>\n",
       "    <tr>\n",
       "      <th>7</th>\n",
       "      <td>8</td>\n",
       "      <td>1323</td>\n",
       "    </tr>\n",
       "  </tbody>\n",
       "</table>\n",
       "</div>"
      ],
      "text/plain": [
       "   id  frequency\n",
       "6   7       5421\n",
       "5   6       2998\n",
       "3   4       2345\n",
       "1   2       1505\n",
       "7   8       1323"
      ]
     },
     "execution_count": 24,
     "metadata": {},
     "output_type": "execute_result"
    }
   ],
   "source": [
    "# сразу сортируем популярные товары, чтобы брать их по очереди и не беспокоиться о frequency\n",
    "\n",
    "freqs = freqs.sort_values('frequency').iloc[::-1]\n",
    "freqs.head()"
   ]
  },
  {
   "cell_type": "code",
   "execution_count": 25,
   "id": "de7cd1c7",
   "metadata": {},
   "outputs": [
    {
     "data": {
      "text/html": [
       "<div>\n",
       "<style scoped>\n",
       "    .dataframe tbody tr th:only-of-type {\n",
       "        vertical-align: middle;\n",
       "    }\n",
       "\n",
       "    .dataframe tbody tr th {\n",
       "        vertical-align: top;\n",
       "    }\n",
       "\n",
       "    .dataframe thead th {\n",
       "        text-align: right;\n",
       "    }\n",
       "</style>\n",
       "<table border=\"1\" class=\"dataframe\">\n",
       "  <thead>\n",
       "    <tr style=\"text-align: right;\">\n",
       "      <th></th>\n",
       "      <th>a_id</th>\n",
       "      <th>b_id</th>\n",
       "      <th>score</th>\n",
       "    </tr>\n",
       "  </thead>\n",
       "  <tbody>\n",
       "    <tr>\n",
       "      <th>0</th>\n",
       "      <td>1</td>\n",
       "      <td>2</td>\n",
       "      <td>300</td>\n",
       "    </tr>\n",
       "    <tr>\n",
       "      <th>1</th>\n",
       "      <td>1</td>\n",
       "      <td>4</td>\n",
       "      <td>150</td>\n",
       "    </tr>\n",
       "    <tr>\n",
       "      <th>2</th>\n",
       "      <td>1</td>\n",
       "      <td>7</td>\n",
       "      <td>220</td>\n",
       "    </tr>\n",
       "    <tr>\n",
       "      <th>3</th>\n",
       "      <td>2</td>\n",
       "      <td>1</td>\n",
       "      <td>100</td>\n",
       "    </tr>\n",
       "    <tr>\n",
       "      <th>4</th>\n",
       "      <td>2</td>\n",
       "      <td>5</td>\n",
       "      <td>520</td>\n",
       "    </tr>\n",
       "  </tbody>\n",
       "</table>\n",
       "</div>"
      ],
      "text/plain": [
       "   a_id  b_id  score\n",
       "0     1     2    300\n",
       "1     1     4    150\n",
       "2     1     7    220\n",
       "3     2     1    100\n",
       "4     2     5    520"
      ]
     },
     "execution_count": 25,
     "metadata": {},
     "output_type": "execute_result"
    }
   ],
   "source": [
    "edges.head()"
   ]
  },
  {
   "cell_type": "code",
   "execution_count": 26,
   "id": "b5d442ce",
   "metadata": {},
   "outputs": [
    {
     "name": "stdout",
     "output_type": "stream",
     "text": [
      "absent: [2, 6, 8]\n",
      "\n",
      "Baskets:\n",
      "[7, 9]\n",
      "[1, 6, 2]\n",
      "[10, 5, 9, 4, 2]\n",
      "[9, 2, 10]\n",
      "[10, 6, 7, 5]\n"
     ]
    }
   ],
   "source": [
    "random.seed(448)\n",
    "absent = get_absent()\n",
    "baskets = []\n",
    "\n",
    "for _ in range(5):\n",
    "    baskets.append(get_basket())\n",
    "    \n",
    "\n",
    "print(f\"absent: {absent}\")\n",
    "print(\"\\nBaskets:\")\n",
    "for b in baskets:\n",
    "    print(b)\n"
   ]
  },
  {
   "cell_type": "code",
   "execution_count": 27,
   "id": "31a66cef",
   "metadata": {},
   "outputs": [
    {
     "data": {
      "text/html": [
       "<div>\n",
       "<style scoped>\n",
       "    .dataframe tbody tr th:only-of-type {\n",
       "        vertical-align: middle;\n",
       "    }\n",
       "\n",
       "    .dataframe tbody tr th {\n",
       "        vertical-align: top;\n",
       "    }\n",
       "\n",
       "    .dataframe thead th {\n",
       "        text-align: right;\n",
       "    }\n",
       "</style>\n",
       "<table border=\"1\" class=\"dataframe\">\n",
       "  <thead>\n",
       "    <tr style=\"text-align: right;\">\n",
       "      <th></th>\n",
       "      <th>a_id</th>\n",
       "      <th>b_id</th>\n",
       "      <th>score</th>\n",
       "    </tr>\n",
       "  </thead>\n",
       "  <tbody>\n",
       "    <tr>\n",
       "      <th>0</th>\n",
       "      <td>1</td>\n",
       "      <td>2</td>\n",
       "      <td>300</td>\n",
       "    </tr>\n",
       "    <tr>\n",
       "      <th>1</th>\n",
       "      <td>1</td>\n",
       "      <td>4</td>\n",
       "      <td>150</td>\n",
       "    </tr>\n",
       "    <tr>\n",
       "      <th>2</th>\n",
       "      <td>1</td>\n",
       "      <td>7</td>\n",
       "      <td>220</td>\n",
       "    </tr>\n",
       "    <tr>\n",
       "      <th>3</th>\n",
       "      <td>2</td>\n",
       "      <td>1</td>\n",
       "      <td>100</td>\n",
       "    </tr>\n",
       "    <tr>\n",
       "      <th>4</th>\n",
       "      <td>2</td>\n",
       "      <td>5</td>\n",
       "      <td>520</td>\n",
       "    </tr>\n",
       "    <tr>\n",
       "      <th>5</th>\n",
       "      <td>2</td>\n",
       "      <td>10</td>\n",
       "      <td>110</td>\n",
       "    </tr>\n",
       "    <tr>\n",
       "      <th>6</th>\n",
       "      <td>3</td>\n",
       "      <td>4</td>\n",
       "      <td>340</td>\n",
       "    </tr>\n",
       "    <tr>\n",
       "      <th>7</th>\n",
       "      <td>4</td>\n",
       "      <td>1</td>\n",
       "      <td>150</td>\n",
       "    </tr>\n",
       "    <tr>\n",
       "      <th>8</th>\n",
       "      <td>4</td>\n",
       "      <td>3</td>\n",
       "      <td>340</td>\n",
       "    </tr>\n",
       "    <tr>\n",
       "      <th>9</th>\n",
       "      <td>5</td>\n",
       "      <td>2</td>\n",
       "      <td>520</td>\n",
       "    </tr>\n",
       "    <tr>\n",
       "      <th>10</th>\n",
       "      <td>7</td>\n",
       "      <td>1</td>\n",
       "      <td>220</td>\n",
       "    </tr>\n",
       "    <tr>\n",
       "      <th>11</th>\n",
       "      <td>9</td>\n",
       "      <td>10</td>\n",
       "      <td>230</td>\n",
       "    </tr>\n",
       "    <tr>\n",
       "      <th>12</th>\n",
       "      <td>10</td>\n",
       "      <td>2</td>\n",
       "      <td>110</td>\n",
       "    </tr>\n",
       "    <tr>\n",
       "      <th>13</th>\n",
       "      <td>10</td>\n",
       "      <td>9</td>\n",
       "      <td>230</td>\n",
       "    </tr>\n",
       "  </tbody>\n",
       "</table>\n",
       "</div>"
      ],
      "text/plain": [
       "    a_id  b_id  score\n",
       "0      1     2    300\n",
       "1      1     4    150\n",
       "2      1     7    220\n",
       "3      2     1    100\n",
       "4      2     5    520\n",
       "5      2    10    110\n",
       "6      3     4    340\n",
       "7      4     1    150\n",
       "8      4     3    340\n",
       "9      5     2    520\n",
       "10     7     1    220\n",
       "11     9    10    230\n",
       "12    10     2    110\n",
       "13    10     9    230"
      ]
     },
     "execution_count": 27,
     "metadata": {},
     "output_type": "execute_result"
    }
   ],
   "source": [
    "# Убираем отсутсвующие товары из датафреймов\n",
    "def remove_absent():\n",
    "    freqs_no_absent = freqs\n",
    "    for product in absent:\n",
    "        freqs_no_absent = freqs_no_absent[freqs_no_absent['id'] != product]\n",
    "\n",
    "    edges_no_absent = edges\n",
    "    for product in absent:\n",
    "    #   Я специально не стал добавлять эту строку, пусть алгоритм видит, какие товары можно предложить взамен на отсутсвующие   \n",
    "    #   edges_no_absent = edges[edges['a_id'] != product] \n",
    "        edges_no_absent = edges_no_absent[edges_no_absent['b_id'] != product]\n",
    "        \n",
    "    return freqs_no_absent, edges_no_absent\n",
    "        \n",
    "edges"
   ]
  },
  {
   "cell_type": "code",
   "execution_count": 28,
   "id": "577bb74b",
   "metadata": {},
   "outputs": [],
   "source": [
    "def init_recs() -> dict:\n",
    "    recs = {}\n",
    "    for item in edges['b_id']:\n",
    "        recs[item] = 0\n",
    "    \n",
    "    return recs\n"
   ]
  },
  {
   "cell_type": "code",
   "execution_count": 35,
   "id": "41c3e112",
   "metadata": {},
   "outputs": [],
   "source": [
    "def fill_recs(recs_list: list, recs_dict: dict, from_basket: bool, basket: list) -> list:\n",
    "    # Сортируем рекомендации по убыванию score\n",
    "    for good in sorted(recs_dict, key=recs_dict.get, reverse=True):\n",
    "        if recs_dict[good] == 0 or len(recs_list) == 4:\n",
    "            break\n",
    "        if (from_basket or good not in basket) and good not in recs_list:   # переменная from_basket типа bool, уточняет рекомендуем ли мы\n",
    "            recs_list.append(good)              # товары, которые уже лежат в корзине\n",
    "            \n",
    "    if len(recs_list) == 4:\n",
    "        return recs_list\n",
    "        \n",
    "    # Заполняем предложения до 4 штук (если нужно), если товар уже есть в списке купленного не добавляем его\n",
    "    # Очевиден тот факт, что добавление в рекомендации отсутствующего товара является значительным недочетом\n",
    "    # рекомендательной системы. Этот алгоритм не будет рекомендовать такие товары.\n",
    "    for freq in freqs['id']:\n",
    "        if len(recs_list) == 4:\n",
    "            break\n",
    "        if (from_basket or freq not in basket) and freq not in recs_list:\n",
    "            recs_list.append(freq)\n",
    "\n",
    "    return recs_list"
   ]
  },
  {
   "cell_type": "code",
   "execution_count": 36,
   "id": "d730dc2b",
   "metadata": {},
   "outputs": [],
   "source": [
    "# Сделаем функцию, которая создает список рекомендаций\n",
    "def find_recommended(basket: list) -> list:\n",
    "    recs_dict = init_recs()\n",
    "    \n",
    "    # Формируем словарь вида {'b_id': 'overall_score'} overall_score = sum(score1, score2...)\n",
    "    for id_ in basket:\n",
    "        id_score_df = edges.loc[edges['a_id'] == id_]\n",
    "        for _, row in id_score_df.iterrows():\n",
    "            recs_dict[row['b_id']] += row['score']\n",
    "    \n",
    "    recs_list = []\n",
    "    \n",
    "    # Используем нашу функцию с параметром Рекомендую товар из корзины = False\n",
    "    recs_list = fill_recs(recs_list, recs_dict, False, basket)\n",
    "    # Если уже использовали все товары из предложений и популярных, можно добавить какой-то из кoрзины\n",
    "    if len(recs_list) < 4:\n",
    "        recs_list = fill_recs(recs_list, recs_dict, True, basket)\n",
    "\n",
    "    return recs_list"
   ]
  },
  {
   "cell_type": "code",
   "execution_count": 37,
   "id": "fb0be1ef",
   "metadata": {},
   "outputs": [],
   "source": [
    "# Сделаем функцию для красивого вывода\n",
    "def print_basket(basket: list, recs: list):\n",
    "    if len(basket) < 3:\n",
    "        delim = '\\t\\t\\t'\n",
    "    elif len(basket) >= 5:\n",
    "        delim = '\\t'\n",
    "    else:\n",
    "        delim = '\\t\\t'\n",
    "        \n",
    "    print(basket, end=delim)\n",
    "    print(recs)"
   ]
  },
  {
   "cell_type": "code",
   "execution_count": 38,
   "id": "1009cf31",
   "metadata": {
    "scrolled": false
   },
   "outputs": [
    {
     "name": "stdout",
     "output_type": "stream",
     "text": [
      "absent\n",
      " [2, 6, 8] \n",
      "\n",
      "basket \t\t\trecs\n",
      "[7, 9]\t\t\t[10, 1, 4, 3]\n",
      "[1, 6, 2]\t\t[5, 7, 4, 10]\n",
      "[10, 5, 9, 4, 2]\t[3, 1, 7, 5]\n",
      "[9, 2, 10]\t\t[5, 1, 7, 4]\n",
      "[10, 6, 7, 5]\t\t[9, 1, 4, 3]\n"
     ]
    }
   ],
   "source": [
    "freqs, edges = remove_absent()\n",
    "\n",
    "print('absent\\n', absent, '\\n')\n",
    "print('basket \\t\\t\\trecs')\n",
    "\n",
    "for b in baskets:\n",
    "    print_basket(b, find_recommended(b))"
   ]
  },
  {
   "cell_type": "code",
   "execution_count": null,
   "id": "673b4358",
   "metadata": {},
   "outputs": [],
   "source": []
  }
 ],
 "metadata": {
  "kernelspec": {
   "display_name": "Python 3 (ipykernel)",
   "language": "python",
   "name": "python3"
  },
  "language_info": {
   "codemirror_mode": {
    "name": "ipython",
    "version": 3
   },
   "file_extension": ".py",
   "mimetype": "text/x-python",
   "name": "python",
   "nbconvert_exporter": "python",
   "pygments_lexer": "ipython3",
   "version": "3.8.10"
  }
 },
 "nbformat": 4,
 "nbformat_minor": 5
}
